{
  "nbformat": 4,
  "nbformat_minor": 0,
  "metadata": {
    "colab": {
      "name": "Untitled0.ipynb",
      "provenance": [],
      "collapsed_sections": [],
      "authorship_tag": "ABX9TyOgIAcZNIs3dpHDdFxk6AVx",
      "include_colab_link": true
    },
    "kernelspec": {
      "name": "python3",
      "display_name": "Python 3"
    },
    "language_info": {
      "name": "python"
    }
  },
  "cells": [
    {
      "cell_type": "markdown",
      "metadata": {
        "id": "view-in-github",
        "colab_type": "text"
      },
      "source": [
        "<a href=\"https://colab.research.google.com/github/ducduy2612-20/AdvancedPythonProgramming/blob/main/Lab02/lab02.ipynb\" target=\"_parent\"><img src=\"https://colab.research.google.com/assets/colab-badge.svg\" alt=\"Open In Colab\"/></a>"
      ]
    },
    {
      "cell_type": "markdown",
      "metadata": {
        "id": "uK5K3_ZVhso5"
      },
      "source": [
        "# **Chương 8**"
      ]
    },
    {
      "cell_type": "markdown",
      "metadata": {
        "id": "JPwqAsGmsYpH"
      },
      "source": [
        "câu 1"
      ]
    },
    {
      "cell_type": "code",
      "metadata": {
        "id": "pQ7enFvcHL3y",
        "colab": {
          "base_uri": "https://localhost:8080/"
        },
        "outputId": "d2ef0d6b-501f-4770-a178-46960911c05b"
      },
      "source": [
        "kingdoms = ['Bacteria', 'Protozoa', 'Chromista','Plantae', 'Fungi','Animalia' ];\n",
        "print(kingdoms[0])\n",
        "print(kingdoms[5])\n",
        "print(kingdoms[:3])\n",
        "print(kingdoms[2:5])\n",
        "print(kingdoms[4:])\n",
        "print(kingdoms[1:0])"
      ],
      "execution_count": 6,
      "outputs": [
        {
          "output_type": "stream",
          "name": "stdout",
          "text": [
            "Bacteria\n",
            "Animalia\n",
            "['Bacteria', 'Protozoa', 'Chromista']\n",
            "['Chromista', 'Plantae', 'Fungi']\n",
            "['Fungi', 'Animalia']\n",
            "[]\n"
          ]
        }
      ]
    },
    {
      "cell_type": "markdown",
      "metadata": {
        "id": "wIiqdVqGsm25"
      },
      "source": [
        "câu 2"
      ]
    },
    {
      "cell_type": "code",
      "metadata": {
        "id": "3kU8MDPuhblP",
        "colab": {
          "base_uri": "https://localhost:8080/"
        },
        "outputId": "f381261d-ebbc-421c-f16e-c478e3f78d79"
      },
      "source": [
        "kingdoms = ['Bacteria', 'Protozoa', 'Chromista','Plantae', 'Fungi','Animalia' ];\n",
        "print(kingdoms[-6])\n",
        "print(kingdoms[-1])\n",
        "print(kingdoms[-6:-3])\n",
        "print(kingdoms[-4:-1])\n",
        "print(kingdoms[-2:])\n",
        "print(kingdoms[-1:-2])"
      ],
      "execution_count": 7,
      "outputs": [
        {
          "output_type": "stream",
          "name": "stdout",
          "text": [
            "Bacteria\n",
            "Animalia\n",
            "['Bacteria', 'Protozoa', 'Chromista']\n",
            "['Chromista', 'Plantae', 'Fungi']\n",
            "['Fungi', 'Animalia']\n",
            "[]\n"
          ]
        }
      ]
    },
    {
      "cell_type": "markdown",
      "metadata": {
        "id": "jFTH4Albs0P9"
      },
      "source": [
        "câu 3"
      ]
    },
    {
      "cell_type": "code",
      "metadata": {
        "colab": {
          "base_uri": "https://localhost:8080/"
        },
        "id": "FqThOyrvsu9F",
        "outputId": "a9232740-984a-485d-9dbb-8f7c122a0309"
      },
      "source": [
        "appointments=['9:00', '10:30', '14:00', '15:00','15:30'];\n",
        "appointments.append('16:30')\n",
        "print(appointments)\n",
        "#Cau B\n",
        "appointments += ['16:30']\n",
        "# Cau C:: The approach in (a) modifies the appointments. The one in (b) creates a new appointments"
      ],
      "execution_count": 8,
      "outputs": [
        {
          "output_type": "stream",
          "name": "stdout",
          "text": [
            "['9:00', '10:30', '14:00', '15:00', '15:30', '16:30']\n"
          ]
        }
      ]
    },
    {
      "cell_type": "markdown",
      "metadata": {
        "id": "AtLQHfQCs2VG"
      },
      "source": [
        "câu 4"
      ]
    },
    {
      "cell_type": "code",
      "metadata": {
        "id": "3NqM13YosvHF",
        "colab": {
          "base_uri": "https://localhost:8080/"
        },
        "outputId": "178f2b1c-e713-4383-e64a-29c5d81dcb43"
      },
      "source": [
        "ids =[4353, 2314, 2956, 3382, 9362, 3900]\n",
        "#cau a. \n",
        "ids.remove(3382)\n",
        "print(ids)\n",
        "#cau b. \n",
        "ids.index(9362)\n",
        "print(ids)\n",
        "#cau c. \n",
        "ids.insert(ids.index(9362) + 1, 4499)\n",
        "print(ids)\n",
        "#cau d. \n",
        "ids = ids + [5566, 1830]\n",
        "print(ids)\n",
        "#cau e. \n",
        "ids.reverse()\n",
        "print(ids)\n",
        "#cau f. \n",
        "ids.sort()\n",
        "print(ids)"
      ],
      "execution_count": 9,
      "outputs": [
        {
          "output_type": "stream",
          "name": "stdout",
          "text": [
            "[4353, 2314, 2956, 9362, 3900]\n",
            "[4353, 2314, 2956, 9362, 3900]\n",
            "[4353, 2314, 2956, 9362, 4499, 3900]\n",
            "[4353, 2314, 2956, 9362, 4499, 3900, 5566, 1830]\n",
            "[1830, 5566, 3900, 4499, 9362, 2956, 2314, 4353]\n",
            "[1830, 2314, 2956, 3900, 4353, 4499, 5566, 9362]\n"
          ]
        }
      ]
    },
    {
      "cell_type": "markdown",
      "metadata": {
        "id": "YV2K7slytD8_"
      },
      "source": [
        "câu 5"
      ]
    },
    {
      "cell_type": "code",
      "metadata": {
        "id": "4ID-mAgGsvJ3",
        "colab": {
          "base_uri": "https://localhost:8080/"
        },
        "outputId": "7198a41b-e2ac-4403-eecc-bd71fa2de90b"
      },
      "source": [
        "alkaline_earth_metals = ['metals—beryllium','magnesium', ' calcium',' strontium','barium','radium']\n",
        "#Cau a. \n",
        "alkaline_earth_metals = [4, 12, 20, 38, 56, 88]\n",
        "#Cau b. \n",
        "print(alkaline_earth_metals[5], alkaline_earth_metals[-1])\n",
        "#Cau c. \n",
        "print(len(alkaline_earth_metals))\n",
        "#Cau d. \n",
        "print(max(alkaline_earth_metals))"
      ],
      "execution_count": 10,
      "outputs": [
        {
          "output_type": "stream",
          "name": "stdout",
          "text": [
            "88 88\n",
            "6\n",
            "88\n"
          ]
        }
      ]
    },
    {
      "cell_type": "markdown",
      "metadata": {
        "id": "MBt_tifKs5m0"
      },
      "source": [
        "câu 6"
      ]
    },
    {
      "cell_type": "code",
      "metadata": {
        "id": "bRcl1l_2svM9",
        "colab": {
          "base_uri": "https://localhost:8080/"
        },
        "outputId": "975d43c5-438b-4119-a7dc-ee64506467a8"
      },
      "source": [
        "#Cau a. \n",
        "temps = [25.2, 16.8, 31.4, 23.9, 28, 22.5, 19.6]\n",
        "print(temps)\n",
        "#Cau b. \n",
        "temps.sort()\n",
        "print(temps)\n",
        "#Cau c.\n",
        "cool_temps = temps[0:2]\n",
        "print(cool_temps)\n",
        "warm_temps = temps[2:]\n",
        "print(warm_temps)\n",
        "#Cau d. \n",
        "temps_in_celsius = cool_temps + warm_temps\n",
        "print(temps_in_celsius)"
      ],
      "execution_count": 11,
      "outputs": [
        {
          "output_type": "stream",
          "name": "stdout",
          "text": [
            "[25.2, 16.8, 31.4, 23.9, 28, 22.5, 19.6]\n",
            "[16.8, 19.6, 22.5, 23.9, 25.2, 28, 31.4]\n",
            "[16.8, 19.6]\n",
            "[22.5, 23.9, 25.2, 28, 31.4]\n",
            "[16.8, 19.6, 22.5, 23.9, 25.2, 28, 31.4]\n"
          ]
        }
      ]
    },
    {
      "cell_type": "markdown",
      "metadata": {
        "id": "iU2ekTVGtRyY"
      },
      "source": [
        "câu 7"
      ]
    },
    {
      "cell_type": "code",
      "metadata": {
        "id": "OMrtEOM5svPq",
        "colab": {
          "base_uri": "https://localhost:8080/"
        },
        "outputId": "aceb9a6b-75dc-4def-b971-403844728d8a"
      },
      "source": [
        "def same_first_last(L : list ) -> bool:\n",
        "  if len(L) >= 2 and L[0] == L[-1]:\n",
        "    print(True)\n",
        "  else:\n",
        "    print(False)\n",
        "\n",
        "same_first_last([3, 4, 2, 8, 3])\n",
        "same_first_last(['apple', 'banana', 'pear'])\n",
        "same_first_last([4.0, 4.5])"
      ],
      "execution_count": 12,
      "outputs": [
        {
          "output_type": "stream",
          "name": "stdout",
          "text": [
            "True\n",
            "False\n",
            "False\n"
          ]
        }
      ]
    },
    {
      "cell_type": "markdown",
      "metadata": {
        "id": "jHEd4LhetTCs"
      },
      "source": [
        "câu 8"
      ]
    },
    {
      "cell_type": "code",
      "metadata": {
        "id": "X8C32y5CsvR2",
        "colab": {
          "base_uri": "https://localhost:8080/"
        },
        "outputId": "7f11f2e2-0dfc-4f8b-b38e-5ef918e342fc"
      },
      "source": [
        "def is_longer(L1: list, L2: list) -> bool:\n",
        "  if len(L1) > len(L2):\n",
        "    print(True)\n",
        "  else:\n",
        "    print(False)\n",
        "is_longer([1, 2, 3], [4, 5])\n",
        "is_longer(['abcdef'], ['ab', 'cd', 'ef'])\n",
        "is_longer(['a', 'b', 'c'], [1, 2, 3])"
      ],
      "execution_count": 13,
      "outputs": [
        {
          "output_type": "stream",
          "name": "stdout",
          "text": [
            "True\n",
            "False\n",
            "False\n"
          ]
        }
      ]
    },
    {
      "cell_type": "markdown",
      "metadata": {
        "id": "Z6hA1qgbtwIf"
      },
      "source": [
        "câu 9"
      ]
    },
    {
      "cell_type": "code",
      "metadata": {
        "id": "L-gR2d2DsvU5",
        "colab": {
          "base_uri": "https://localhost:8080/"
        },
        "outputId": "b8f88f0d-68e1-419c-8ca5-cbce2fcfaf7c"
      },
      "source": [
        "values = [0, 1, 2]\n",
        "values[1] = values\n",
        "\n",
        "print(values)"
      ],
      "execution_count": 14,
      "outputs": [
        {
          "output_type": "stream",
          "name": "stdout",
          "text": [
            "[0, [...], 2]\n"
          ]
        }
      ]
    },
    {
      "cell_type": "markdown",
      "metadata": {
        "id": "2uBVB0sWt3xs"
      },
      "source": [
        "câu 10"
      ]
    },
    {
      "cell_type": "code",
      "metadata": {
        "id": "8U5pCE-esvYA",
        "colab": {
          "base_uri": "https://localhost:8080/"
        },
        "outputId": "a0612248-cb4b-4406-a320-6f7707d2bbcc"
      },
      "source": [
        "units =[['km', 'miles', 'league'],['kg', 'pound', 'stone']]\n",
        "#a. \n",
        "print(units[0])\n",
        "#b. \n",
        "print(units[-1] or units[1])\n",
        "#c. \n",
        "print(units[0][0])\n",
        "#d. \n",
        "print(units[1][0])\n",
        "#e. \n",
        "print(units[0][1:])\n",
        "#f. \n",
        "print(units[1][0:2])"
      ],
      "execution_count": 15,
      "outputs": [
        {
          "output_type": "stream",
          "name": "stdout",
          "text": [
            "['km', 'miles', 'league']\n",
            "['kg', 'pound', 'stone']\n",
            "km\n",
            "kg\n",
            "['miles', 'league']\n",
            "['kg', 'pound']\n"
          ]
        }
      ]
    },
    {
      "cell_type": "markdown",
      "metadata": {
        "id": "vYob9hZMt5nf"
      },
      "source": [
        "câu 11"
      ]
    },
    {
      "cell_type": "code",
      "metadata": {
        "id": "5NIKMfLAsvbr",
        "colab": {
          "base_uri": "https://localhost:8080/"
        },
        "outputId": "4c975f99-a256-4611-c66c-211aa852c880"
      },
      "source": [
        "units =[['km', 'miles', 'league'],['kg', 'pound', 'stone']]\n",
        "#a.\n",
        "print(units[-2])\n",
        "#b. \n",
        "print(units[-1])\n",
        "#c. \n",
        "print(units[-2][-3])\n",
        "#d. \n",
        "print(units[-1][-3])\n",
        "#e. \n",
        "print(units[-2][-2:])\n",
        "#f. \n",
        "print(units[-1][:-1])"
      ],
      "execution_count": 16,
      "outputs": [
        {
          "output_type": "stream",
          "name": "stdout",
          "text": [
            "['km', 'miles', 'league']\n",
            "['kg', 'pound', 'stone']\n",
            "km\n",
            "kg\n",
            "['miles', 'league']\n",
            "['kg', 'pound']\n"
          ]
        }
      ]
    },
    {
      "cell_type": "markdown",
      "metadata": {
        "id": "UVDGpcnkuCWi"
      },
      "source": [
        "## **Chương 9**"
      ]
    },
    {
      "cell_type": "markdown",
      "metadata": {
        "id": "ik5bpGmDuTzJ"
      },
      "source": [
        "câu 1"
      ]
    },
    {
      "cell_type": "code",
      "metadata": {
        "id": "jnz7P9UcuQDR",
        "colab": {
          "base_uri": "https://localhost:8080/"
        },
        "outputId": "689bc0a4-73e0-43f7-c99b-badea01a0cf6"
      },
      "source": [
        "celegans_phenotypes = ['Emb','Him', 'Unc', 'Lon', 'Dpy', 'Sma']\n",
        "for phenotype in celegans_phenotypes:\n",
        " print(phenotype)"
      ],
      "execution_count": 17,
      "outputs": [
        {
          "output_type": "stream",
          "name": "stdout",
          "text": [
            "Emb\n",
            "Him\n",
            "Unc\n",
            "Lon\n",
            "Dpy\n",
            "Sma\n"
          ]
        }
      ]
    },
    {
      "cell_type": "markdown",
      "metadata": {
        "id": "9CbuGrpVuX-M"
      },
      "source": [
        "câu 2"
      ]
    },
    {
      "cell_type": "code",
      "metadata": {
        "id": "Bv8vtz-5uQNp",
        "colab": {
          "base_uri": "https://localhost:8080/"
        },
        "outputId": "c2fcefd5-bc5d-4117-80d4-1deda34bc123"
      },
      "source": [
        "half_lives = [87.74, 24110.0,6537.0, 14.4, 376000.0]\n",
        "for value in half_lives:\n",
        " print(value, end=' ')"
      ],
      "execution_count": 18,
      "outputs": [
        {
          "output_type": "stream",
          "name": "stdout",
          "text": [
            "87.74 24110.0 6537.0 14.4 376000.0 "
          ]
        }
      ]
    },
    {
      "cell_type": "markdown",
      "metadata": {
        "id": "6M_b2SfhudFK"
      },
      "source": [
        "câu 3"
      ]
    },
    {
      "cell_type": "code",
      "metadata": {
        "id": "3r24mk0LuQQI",
        "colab": {
          "base_uri": "https://localhost:8080/"
        },
        "outputId": "d344d212-c59a-4037-cb53-e0437ca3f8df"
      },
      "source": [
        "whales = [5, 4, 7, 3, 2, 3, 2, 6, 4, 2, 1, 7, 1, 3]\n",
        "more_whales = []\n",
        "for count in whales:\n",
        " more_whales.append(count + 1)\n",
        "print(more_whales)"
      ],
      "execution_count": 19,
      "outputs": [
        {
          "output_type": "stream",
          "name": "stdout",
          "text": [
            "[6, 5, 8, 4, 3, 4, 3, 7, 5, 3, 2, 8, 2, 4]\n"
          ]
        }
      ]
    },
    {
      "cell_type": "markdown",
      "metadata": {
        "id": "rAyLQcpzuiCA"
      },
      "source": [
        "câu 4"
      ]
    },
    {
      "cell_type": "code",
      "metadata": {
        "id": "B9ZVDw3luQTq",
        "colab": {
          "base_uri": "https://localhost:8080/"
        },
        "outputId": "f490a6c6-74f0-415d-a091-691f9f144353"
      },
      "source": [
        "#a.\n",
        "alkaline_earth_metals = [[4, 9.012], [12, 24.305],[20, 40.078], [38, 87.62],[56, 137.327], [88, 226]]\n",
        "#b.\n",
        "for inner_list in alkaline_earth_metals:\n",
        " print(\"inner_list[0]\",inner_list[0])\n",
        " print(\"inner_list[1]\",inner_list[1])\n",
        "#c.\n",
        "number_and_weight = []\n",
        "for inner_list in alkaline_earth_metals:\n",
        " number_and_weight.append(inner_list[0])\n",
        " number_and_weight.append(inner_list[1])\n",
        " print(number_and_weight[0])\n",
        " print(number_and_weight[1])"
      ],
      "execution_count": 20,
      "outputs": [
        {
          "output_type": "stream",
          "name": "stdout",
          "text": [
            "inner_list[0] 4\n",
            "inner_list[1] 9.012\n",
            "inner_list[0] 12\n",
            "inner_list[1] 24.305\n",
            "inner_list[0] 20\n",
            "inner_list[1] 40.078\n",
            "inner_list[0] 38\n",
            "inner_list[1] 87.62\n",
            "inner_list[0] 56\n",
            "inner_list[1] 137.327\n",
            "inner_list[0] 88\n",
            "inner_list[1] 226\n",
            "4\n",
            "9.012\n",
            "4\n",
            "9.012\n",
            "4\n",
            "9.012\n",
            "4\n",
            "9.012\n",
            "4\n",
            "9.012\n",
            "4\n",
            "9.012\n"
          ]
        }
      ]
    },
    {
      "cell_type": "markdown",
      "metadata": {
        "id": "yGx5lbJ9umqn"
      },
      "source": [
        "câu 5"
      ]
    },
    {
      "cell_type": "code",
      "metadata": {
        "id": "W8_jT-rXuQVc",
        "colab": {
          "base_uri": "https://localhost:8080/"
        },
        "outputId": "7816bd9c-714a-4ae7-c840-a63913bbe529"
      },
      "source": [
        "values = [[4,9.012],[12, 24.305],[20, 40.078],[38, 87.62],[56, 137.327],[88,226]]\n",
        "\n",
        "def mystery_function(values):\n",
        "    result = []\n",
        "    for sublist in values:\n",
        "        result.append([sublist[0]])\n",
        "        for i in sublist[1:]:\n",
        "            result[-1].insert(0, i)\n",
        "    return result\n",
        "\n",
        "mystery_function(values)"
      ],
      "execution_count": 21,
      "outputs": [
        {
          "output_type": "execute_result",
          "data": {
            "text/plain": [
              "[[9.012, 4], [24.305, 12], [40.078, 20], [87.62, 38], [137.327, 56], [226, 88]]"
            ]
          },
          "metadata": {},
          "execution_count": 21
        }
      ]
    },
    {
      "cell_type": "markdown",
      "metadata": {
        "id": "SGsN3Dhtupbk"
      },
      "source": [
        "câu 6"
      ]
    },
    {
      "cell_type": "code",
      "metadata": {
        "id": "7YJKmcWyuQYL",
        "colab": {
          "base_uri": "https://localhost:8080/"
        },
        "outputId": "61885261-1b4d-4161-99ee-75adf6a1987e"
      },
      "source": [
        "text = \"\"\n",
        "while text.lower() != \"quit\":\n",
        " text = input(\"Please enter 'QUIT' or 'quit' to exit: \")\n",
        " if text == \"quit\":\n",
        "  print(\"…exiting program\")\n",
        " elif text ==\"QUIT\":\n",
        "   print(\"…exiting program\")\n",
        " else:\n",
        "  print(\"Unknown compound\")"
      ],
      "execution_count": 22,
      "outputs": [
        {
          "output_type": "stream",
          "name": "stdout",
          "text": [
            "Please enter 'QUIT' or 'quit' to exit: quit\n",
            "…exiting program\n"
          ]
        }
      ]
    },
    {
      "cell_type": "markdown",
      "metadata": {
        "id": "zNjJcRiuwvLL"
      },
      "source": [
        "câu 7"
      ]
    },
    {
      "cell_type": "code",
      "metadata": {
        "id": "qu-gJM9Mwqtd",
        "colab": {
          "base_uri": "https://localhost:8080/"
        },
        "outputId": "2b184d07-0ba3-4364-a729-86fd431f8e6e"
      },
      "source": [
        "country_populations = [1295, 23, 7, 3, 47, 21]\n",
        "total = 0\n",
        "for population in country_populations:\n",
        " total += population\n",
        "print(total)"
      ],
      "execution_count": 23,
      "outputs": [
        {
          "output_type": "stream",
          "name": "stdout",
          "text": [
            "1396\n"
          ]
        }
      ]
    },
    {
      "cell_type": "markdown",
      "metadata": {
        "id": "nOc2IAIbwwsj"
      },
      "source": [
        "câu 8"
      ]
    },
    {
      "cell_type": "code",
      "metadata": {
        "id": "9Yvxw6jHwqxe",
        "colab": {
          "base_uri": "https://localhost:8080/",
          "height": 234
        },
        "outputId": "4526fbe8-e439-47db-c317-55dd20f3ab06"
      },
      "source": [
        "#a.\n",
        "if rat_1[0] > rat_2[0]:\n",
        " print(\"Rat 1 weighed more than rat 2 on day 1.\")\n",
        "else:\n",
        " print(\"Rat 1 weighed less than rat 2 on day 1.\")\n",
        "#b.\n",
        "if rat_1[0] > rat_2[0] and rat_1[-1] > rat_2[-1]:\n",
        " print(\"Rat 1 remained heavier than Rat 2.\")\n",
        "else:\n",
        " print(\"Rat 2 became heavier than Rat 1.\")\n",
        "#c.\n",
        "if rat_1[0] > rat_2[0]:\n",
        " if rat_1[-1] > rat_2[-1]:\n",
        "  print(\"Rat 1 remained heavier than Rat 2.\")\n",
        " else:\n",
        "  print(\"Rat 2 became heavier than Rat 1.\")\n",
        "else:\n",
        "  print(\"Rat 2 became heavier than Rat 1.\")"
      ],
      "execution_count": 33,
      "outputs": [
        {
          "output_type": "error",
          "ename": "NameError",
          "evalue": "ignored",
          "traceback": [
            "\u001b[0;31m---------------------------------------------------------------------------\u001b[0m",
            "\u001b[0;31mNameError\u001b[0m                                 Traceback (most recent call last)",
            "\u001b[0;32m<ipython-input-33-c3a5ae6f3475>\u001b[0m in \u001b[0;36m<module>\u001b[0;34m()\u001b[0m\n\u001b[1;32m      1\u001b[0m \u001b[0;31m#a.\u001b[0m\u001b[0;34m\u001b[0m\u001b[0;34m\u001b[0m\u001b[0;34m\u001b[0m\u001b[0m\n\u001b[0;32m----> 2\u001b[0;31m \u001b[0;32mif\u001b[0m \u001b[0mrat_1\u001b[0m\u001b[0;34m[\u001b[0m\u001b[0;36m0\u001b[0m\u001b[0;34m]\u001b[0m \u001b[0;34m>\u001b[0m \u001b[0mrat_2\u001b[0m\u001b[0;34m[\u001b[0m\u001b[0;36m0\u001b[0m\u001b[0;34m]\u001b[0m\u001b[0;34m:\u001b[0m\u001b[0;34m\u001b[0m\u001b[0;34m\u001b[0m\u001b[0m\n\u001b[0m\u001b[1;32m      3\u001b[0m  \u001b[0mprint\u001b[0m\u001b[0;34m(\u001b[0m\u001b[0;34m\"Rat 1 weighed more than rat 2 on day 1.\"\u001b[0m\u001b[0;34m)\u001b[0m\u001b[0;34m\u001b[0m\u001b[0;34m\u001b[0m\u001b[0m\n\u001b[1;32m      4\u001b[0m \u001b[0;32melse\u001b[0m\u001b[0;34m:\u001b[0m\u001b[0;34m\u001b[0m\u001b[0;34m\u001b[0m\u001b[0m\n\u001b[1;32m      5\u001b[0m  \u001b[0mprint\u001b[0m\u001b[0;34m(\u001b[0m\u001b[0;34m\"Rat 1 weighed less than rat 2 on day 1.\"\u001b[0m\u001b[0;34m)\u001b[0m\u001b[0;34m\u001b[0m\u001b[0;34m\u001b[0m\u001b[0m\n",
            "\u001b[0;31mNameError\u001b[0m: name 'rat_1' is not defined"
          ]
        }
      ]
    },
    {
      "cell_type": "markdown",
      "metadata": {
        "id": "ozWXRqp5w8Gi"
      },
      "source": [
        "câu 9"
      ]
    },
    {
      "cell_type": "code",
      "metadata": {
        "id": "76DeLBPFwq2F",
        "colab": {
          "base_uri": "https://localhost:8080/"
        },
        "outputId": "6a988f3e-63ec-4293-b242-fac962a3d396"
      },
      "source": [
        "for number in range(33, 50):\n",
        " print(number)"
      ],
      "execution_count": 32,
      "outputs": [
        {
          "output_type": "stream",
          "name": "stdout",
          "text": [
            "33\n",
            "34\n",
            "35\n",
            "36\n",
            "37\n",
            "38\n",
            "39\n",
            "40\n",
            "41\n",
            "42\n",
            "43\n",
            "44\n",
            "45\n",
            "46\n",
            "47\n",
            "48\n",
            "49\n"
          ]
        }
      ]
    },
    {
      "cell_type": "markdown",
      "metadata": {
        "id": "-YTWeU70xBVX"
      },
      "source": [
        "câu 10"
      ]
    },
    {
      "cell_type": "code",
      "metadata": {
        "id": "i-2n2Nwdwq5I",
        "colab": {
          "base_uri": "https://localhost:8080/"
        },
        "outputId": "94dc99a3-9c79-4c14-a7e6-353b1f28dfd3"
      },
      "source": [
        "for number in range(10):\n",
        " print(10 - number, end=' ')"
      ],
      "execution_count": 31,
      "outputs": [
        {
          "output_type": "stream",
          "name": "stdout",
          "text": [
            "10 9 8 7 6 5 4 3 2 1 "
          ]
        }
      ]
    },
    {
      "cell_type": "markdown",
      "metadata": {
        "id": "DqtlS3gNxDAh"
      },
      "source": [
        "câu 11"
      ]
    },
    {
      "cell_type": "code",
      "metadata": {
        "id": "iqKmG9cbwq7j",
        "colab": {
          "base_uri": "https://localhost:8080/"
        },
        "outputId": "fc4e09d3-0a3b-4c96-807e-0b5bc1c840fb"
      },
      "source": [
        "sum = 0\n",
        "count = 0\n",
        "for number in range(2,23):\n",
        " sum += number\n",
        " count += 1\n",
        "average = sum / count\n",
        "print(average)"
      ],
      "execution_count": 30,
      "outputs": [
        {
          "output_type": "stream",
          "name": "stdout",
          "text": [
            "12.0\n"
          ]
        }
      ]
    },
    {
      "cell_type": "markdown",
      "metadata": {
        "id": "x9luCMDHxEGr"
      },
      "source": [
        "câu 12"
      ]
    },
    {
      "cell_type": "code",
      "metadata": {
        "id": "3iqvv6WGxaab"
      },
      "source": [
        "def remove_neg(num_list):\n",
        " index = 0\n",
        " while index < len(num_list):\n",
        "  if num_list[index] < 0:\n",
        "    del num_list[index]\n",
        "  else:\n",
        "    index += 1"
      ],
      "execution_count": 29,
      "outputs": []
    },
    {
      "cell_type": "markdown",
      "metadata": {
        "id": "oGmvePIixF-x"
      },
      "source": [
        "câu 13"
      ]
    },
    {
      "cell_type": "code",
      "metadata": {
        "id": "vd6xCYV8wq-P",
        "colab": {
          "base_uri": "https://localhost:8080/"
        },
        "outputId": "7e623429-ead3-4f5f-8501-003a02dd1fd6"
      },
      "source": [
        "for width in range(1, 8):\n",
        " print('T' * width)"
      ],
      "execution_count": 28,
      "outputs": [
        {
          "output_type": "stream",
          "name": "stdout",
          "text": [
            "T\n",
            "TT\n",
            "TTT\n",
            "TTTT\n",
            "TTTTT\n",
            "TTTTTT\n",
            "TTTTTTT\n"
          ]
        }
      ]
    },
    {
      "cell_type": "markdown",
      "metadata": {
        "id": "R5bdjZjPxHNd"
      },
      "source": [
        "câu 14"
      ]
    },
    {
      "cell_type": "code",
      "metadata": {
        "id": "EA2SS8TqwrBs",
        "colab": {
          "base_uri": "https://localhost:8080/"
        },
        "outputId": "93fd8261-4dba-4a11-cd7a-49ca86570fe8"
      },
      "source": [
        "for width in range(1, 8):\n",
        " print(' ' * (7 - width), 'T' * width, sep='')"
      ],
      "execution_count": 27,
      "outputs": [
        {
          "output_type": "stream",
          "name": "stdout",
          "text": [
            "      T\n",
            "     TT\n",
            "    TTT\n",
            "   TTTT\n",
            "  TTTTT\n",
            " TTTTTT\n",
            "TTTTTTT\n"
          ]
        }
      ]
    },
    {
      "cell_type": "markdown",
      "metadata": {
        "id": "muR_3pk-xMCh"
      },
      "source": [
        "câu 15"
      ]
    },
    {
      "cell_type": "code",
      "metadata": {
        "id": "5iPMpr5axItI",
        "colab": {
          "base_uri": "https://localhost:8080/"
        },
        "outputId": "faeb4853-1211-4d4d-ff19-a608a827cbfb"
      },
      "source": [
        "width = 1\n",
        "while width < 8:\n",
        " print('T' * width)\n",
        " width += 1\n",
        "width = 1\n",
        "while width < 8:\n",
        " print(' ' * (7 - width), 'T' * width, sep='')\n",
        " width += 1"
      ],
      "execution_count": 25,
      "outputs": [
        {
          "output_type": "stream",
          "name": "stdout",
          "text": [
            "T\n",
            "TT\n",
            "TTT\n",
            "TTTT\n",
            "TTTTT\n",
            "TTTTTT\n",
            "TTTTTTT\n",
            "      T\n",
            "     TT\n",
            "    TTT\n",
            "   TTTT\n",
            "  TTTTT\n",
            " TTTTTT\n",
            "TTTTTTT\n"
          ]
        }
      ]
    },
    {
      "cell_type": "markdown",
      "metadata": {
        "id": "BoD2K5HkxNpz"
      },
      "source": [
        "câu 16"
      ]
    },
    {
      "cell_type": "code",
      "metadata": {
        "id": "PORk7rqwxI59",
        "colab": {
          "base_uri": "https://localhost:8080/",
          "height": 234
        },
        "outputId": "9d1c5a17-4854-45b7-f370-8b790c850a46"
      },
      "source": [
        "#a.\n",
        "week = 1\n",
        "while rat_1_weight[week] / rat_1_weight[0] - 1 < .25:\n",
        "  week += 1\n",
        "\n",
        "print(week)\n",
        "#b.\n",
        "week = 0\n",
        "while rat_1_weight[week] / rat_2_weight[week] - 1 < .10:\n",
        " week += 1\n",
        " \n",
        "print(week)"
      ],
      "execution_count": 26,
      "outputs": [
        {
          "output_type": "error",
          "ename": "NameError",
          "evalue": "ignored",
          "traceback": [
            "\u001b[0;31m---------------------------------------------------------------------------\u001b[0m",
            "\u001b[0;31mNameError\u001b[0m                                 Traceback (most recent call last)",
            "\u001b[0;32m<ipython-input-26-a8facba6fcfc>\u001b[0m in \u001b[0;36m<module>\u001b[0;34m()\u001b[0m\n\u001b[1;32m      1\u001b[0m \u001b[0;31m#a.\u001b[0m\u001b[0;34m\u001b[0m\u001b[0;34m\u001b[0m\u001b[0;34m\u001b[0m\u001b[0m\n\u001b[1;32m      2\u001b[0m \u001b[0mweek\u001b[0m \u001b[0;34m=\u001b[0m \u001b[0;36m1\u001b[0m\u001b[0;34m\u001b[0m\u001b[0;34m\u001b[0m\u001b[0m\n\u001b[0;32m----> 3\u001b[0;31m \u001b[0;32mwhile\u001b[0m \u001b[0mrat_1_weight\u001b[0m\u001b[0;34m[\u001b[0m\u001b[0mweek\u001b[0m\u001b[0;34m]\u001b[0m \u001b[0;34m/\u001b[0m \u001b[0mrat_1_weight\u001b[0m\u001b[0;34m[\u001b[0m\u001b[0;36m0\u001b[0m\u001b[0;34m]\u001b[0m \u001b[0;34m-\u001b[0m \u001b[0;36m1\u001b[0m \u001b[0;34m<\u001b[0m \u001b[0;36m.25\u001b[0m\u001b[0;34m:\u001b[0m\u001b[0;34m\u001b[0m\u001b[0;34m\u001b[0m\u001b[0m\n\u001b[0m\u001b[1;32m      4\u001b[0m   \u001b[0mweek\u001b[0m \u001b[0;34m+=\u001b[0m \u001b[0;36m1\u001b[0m\u001b[0;34m\u001b[0m\u001b[0;34m\u001b[0m\u001b[0m\n\u001b[1;32m      5\u001b[0m \u001b[0;34m\u001b[0m\u001b[0m\n",
            "\u001b[0;31mNameError\u001b[0m: name 'rat_1_weight' is not defined"
          ]
        }
      ]
    }
  ]
}