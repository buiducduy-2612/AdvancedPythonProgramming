{
  "nbformat": 4,
  "nbformat_minor": 0,
  "metadata": {
    "colab": {
      "name": "Untitled0.ipynb",
      "provenance": [],
      "collapsed_sections": [],
      "authorship_tag": "ABX9TyMec9BnWUc/lPZPy2D/ING8",
      "include_colab_link": true
    },
    "kernelspec": {
      "name": "python3",
      "display_name": "Python 3"
    },
    "language_info": {
      "name": "python"
    }
  },
  "cells": [
    {
      "cell_type": "markdown",
      "metadata": {
        "id": "view-in-github",
        "colab_type": "text"
      },
      "source": [
        "<a href=\"https://colab.research.google.com/github/ducduy2612-20/AdvancedPythonProgramming/blob/main/Lab02/lab02.ipynb\" target=\"_parent\"><img src=\"https://colab.research.google.com/assets/colab-badge.svg\" alt=\"Open In Colab\"/></a>"
      ]
    },
    {
      "cell_type": "markdown",
      "metadata": {
        "id": "uK5K3_ZVhso5"
      },
      "source": [
        "# **Chương 8**"
      ]
    },
    {
      "cell_type": "markdown",
      "metadata": {
        "id": "JPwqAsGmsYpH"
      },
      "source": [
        "câu 1"
      ]
    },
    {
      "cell_type": "code",
      "metadata": {
        "id": "pQ7enFvcHL3y",
        "colab": {
          "base_uri": "https://localhost:8080/"
        },
        "outputId": "1ada235a-2484-4fb9-a3c1-c4a61acfd2d6"
      },
      "source": [
        "kingdoms = ['Bacteria', 'Protozoa', 'Chromista','Plantae', 'Fungi','Animalia' ];\n",
        "print(kingdoms[0])\n",
        "print(kingdoms[5])\n",
        "print(kingdoms[:3])\n",
        "print(kingdoms[2:5])\n",
        "print(kingdoms[4:])\n",
        "print(kingdoms[1:0])"
      ],
      "execution_count": 1,
      "outputs": [
        {
          "output_type": "stream",
          "name": "stdout",
          "text": [
            "Bacteria\n",
            "Animalia\n",
            "['Bacteria', 'Protozoa', 'Chromista']\n",
            "['Chromista', 'Plantae', 'Fungi']\n",
            "['Fungi', 'Animalia']\n",
            "[]\n"
          ]
        }
      ]
    },
    {
      "cell_type": "markdown",
      "metadata": {
        "id": "wIiqdVqGsm25"
      },
      "source": [
        "câu 2"
      ]
    },
    {
      "cell_type": "code",
      "metadata": {
        "id": "3kU8MDPuhblP",
        "colab": {
          "base_uri": "https://localhost:8080/"
        },
        "outputId": "2713dd43-8eee-46a2-f2b7-72fb577fa5d9"
      },
      "source": [
        "kingdoms = ['Bacteria', 'Protozoa', 'Chromista','Plantae', 'Fungi','Animalia' ];\n",
        "print(kingdoms[-6])\n",
        "print(kingdoms[-1])\n",
        "print(kingdoms[-6:-3])\n",
        "print(kingdoms[-4:-1])\n",
        "print(kingdoms[-2:])\n",
        "print(kingdoms[-1:-2])"
      ],
      "execution_count": 2,
      "outputs": [
        {
          "output_type": "stream",
          "name": "stdout",
          "text": [
            "Bacteria\n",
            "Animalia\n",
            "['Bacteria', 'Protozoa', 'Chromista']\n",
            "['Chromista', 'Plantae', 'Fungi']\n",
            "['Fungi', 'Animalia']\n",
            "[]\n"
          ]
        }
      ]
    },
    {
      "cell_type": "markdown",
      "metadata": {
        "id": "jFTH4Albs0P9"
      },
      "source": [
        "câu 3"
      ]
    },
    {
      "cell_type": "code",
      "metadata": {
        "colab": {
          "base_uri": "https://localhost:8080/"
        },
        "id": "FqThOyrvsu9F",
        "outputId": "ad717566-072d-424b-f03c-ed139ab42e51"
      },
      "source": [
        "appointments=['9:00', '10:30', '14:00', '15:00','15:30'];\n",
        "appointments.append('16:30')\n",
        "print(appointments)\n",
        "#Cau B\n",
        "appointments += ['16:30']\n",
        "# Cau C:: The approach in (a) modifies the appointments. The one in (b) creates a new appointments"
      ],
      "execution_count": 3,
      "outputs": [
        {
          "output_type": "stream",
          "name": "stdout",
          "text": [
            "['9:00', '10:30', '14:00', '15:00', '15:30', '16:30']\n"
          ]
        }
      ]
    },
    {
      "cell_type": "markdown",
      "metadata": {
        "id": "AtLQHfQCs2VG"
      },
      "source": [
        "câu 4"
      ]
    },
    {
      "cell_type": "code",
      "metadata": {
        "id": "3NqM13YosvHF",
        "outputId": "973245b2-d1b1-4c3b-c8d2-ac46e5ee4516",
        "colab": {
          "base_uri": "https://localhost:8080/",
          "height": 234
        }
      },
      "source": [
        "list [4353, 2314, 2956, 3382, 9362, 3900];\n",
        "list.remove(3382)\n",
        "list\n",
        "# Cau B\n",
        "list.index(9362)\n",
        "list\n",
        "#Cau C\n",
        "list.insert(list.index(9362)+1,4499)\n",
        "list\n",
        "#Cau D\n",
        "list = list + [5566,1830]\n",
        "list\n",
        "#Cau E\n",
        "print(reversed(list))\n",
        "#Cau F\n",
        "print(sorted(list))"
      ],
      "execution_count": 4,
      "outputs": [
        {
          "output_type": "error",
          "ename": "TypeError",
          "evalue": "ignored",
          "traceback": [
            "\u001b[0;31m---------------------------------------------------------------------------\u001b[0m",
            "\u001b[0;31mTypeError\u001b[0m                                 Traceback (most recent call last)",
            "\u001b[0;32m<ipython-input-4-ed017f0457b1>\u001b[0m in \u001b[0;36m<module>\u001b[0;34m()\u001b[0m\n\u001b[0;32m----> 1\u001b[0;31m \u001b[0mlist\u001b[0m \u001b[0;34m[\u001b[0m\u001b[0;36m4353\u001b[0m\u001b[0;34m,\u001b[0m \u001b[0;36m2314\u001b[0m\u001b[0;34m,\u001b[0m \u001b[0;36m2956\u001b[0m\u001b[0;34m,\u001b[0m \u001b[0;36m3382\u001b[0m\u001b[0;34m,\u001b[0m \u001b[0;36m9362\u001b[0m\u001b[0;34m,\u001b[0m \u001b[0;36m3900\u001b[0m\u001b[0;34m]\u001b[0m\u001b[0;34m;\u001b[0m\u001b[0;34m\u001b[0m\u001b[0;34m\u001b[0m\u001b[0m\n\u001b[0m\u001b[1;32m      2\u001b[0m \u001b[0mlist\u001b[0m\u001b[0;34m.\u001b[0m\u001b[0mremove\u001b[0m\u001b[0;34m(\u001b[0m\u001b[0;36m3382\u001b[0m\u001b[0;34m)\u001b[0m\u001b[0;34m\u001b[0m\u001b[0;34m\u001b[0m\u001b[0m\n\u001b[1;32m      3\u001b[0m \u001b[0mlist\u001b[0m\u001b[0;34m\u001b[0m\u001b[0;34m\u001b[0m\u001b[0m\n\u001b[1;32m      4\u001b[0m \u001b[0;31m# Cau B\u001b[0m\u001b[0;34m\u001b[0m\u001b[0;34m\u001b[0m\u001b[0;34m\u001b[0m\u001b[0m\n\u001b[1;32m      5\u001b[0m \u001b[0mlist\u001b[0m\u001b[0;34m.\u001b[0m\u001b[0mindex\u001b[0m\u001b[0;34m(\u001b[0m\u001b[0;36m9362\u001b[0m\u001b[0;34m)\u001b[0m\u001b[0;34m\u001b[0m\u001b[0;34m\u001b[0m\u001b[0m\n",
            "\u001b[0;31mTypeError\u001b[0m: 'type' object is not subscriptable"
          ]
        }
      ]
    },
    {
      "cell_type": "markdown",
      "metadata": {
        "id": "YV2K7slytD8_"
      },
      "source": [
        "câu 5"
      ]
    },
    {
      "cell_type": "code",
      "metadata": {
        "id": "4ID-mAgGsvJ3"
      },
      "source": [
        "alkaline_earth_metals = [4,12,20,38,56,88];\n",
        "alkaline_earth_metals[5]\n",
        "alkaline_earth_metals[-1]\n",
        "len(alkaline_earth_metals)\n",
        "max(alkaline_earth_metals)"
      ],
      "execution_count": null,
      "outputs": []
    },
    {
      "cell_type": "markdown",
      "metadata": {
        "id": "MBt_tifKs5m0"
      },
      "source": [
        "câu 6"
      ]
    },
    {
      "cell_type": "code",
      "metadata": {
        "id": "bRcl1l_2svM9"
      },
      "source": [
        "temp=[25.2,16.8,31.4,23.9,28,22.5,16.9];\n",
        "temp.sort()\n",
        "print(temp)\n",
        "cool_temp = temp[0:2];\n",
        "print(cool_temp)\n",
        "warm_temp = temp[2:];\n",
        "print(warm_temp)"
      ],
      "execution_count": null,
      "outputs": []
    },
    {
      "cell_type": "markdown",
      "metadata": {
        "id": "iU2ekTVGtRyY"
      },
      "source": [
        "câu 7"
      ]
    },
    {
      "cell_type": "code",
      "metadata": {
        "id": "OMrtEOM5svPq"
      },
      "source": [
        "def same_first_last(L:list) -> bool:\n",
        "    if  len(L) >= 2:\n",
        "        return L[0] == L[-1]\n",
        "\n",
        "print(same_first_last([3, 4, 2, 8, 3]))\n",
        "print(same_first_last(['apple', 'banana', 'pear']))\n",
        "print(same_first_last([4.0, 4.5]))"
      ],
      "execution_count": null,
      "outputs": []
    },
    {
      "cell_type": "markdown",
      "metadata": {
        "id": "jHEd4LhetTCs"
      },
      "source": [
        "câu 8"
      ]
    },
    {
      "cell_type": "code",
      "metadata": {
        "id": "X8C32y5CsvR2"
      },
      "source": [
        "def is_longer(L1: list, L2: list) -> bool:\n",
        "    return len(L1) > len(L2)\n",
        "print( is_longer([1, 2, 3], [4, 5]))\n",
        "print( is_longer(['abcdef'], ['ab', 'cd', 'ef']))\n",
        "print(is_longer(['a', 'b', 'c'], [1, 2, 3]))"
      ],
      "execution_count": null,
      "outputs": []
    },
    {
      "cell_type": "markdown",
      "metadata": {
        "id": "Z6hA1qgbtwIf"
      },
      "source": [
        "câu 9"
      ]
    },
    {
      "cell_type": "code",
      "metadata": {
        "id": "L-gR2d2DsvU5"
      },
      "source": [
        "values = [0, 1, 2]\n",
        "values[1] = values\n",
        "\n",
        "print(values)"
      ],
      "execution_count": null,
      "outputs": []
    },
    {
      "cell_type": "markdown",
      "metadata": {
        "id": "2uBVB0sWt3xs"
      },
      "source": [
        "câu 10"
      ]
    },
    {
      "cell_type": "code",
      "metadata": {
        "id": "8U5pCE-esvYA"
      },
      "source": [
        "units =  [['km', 'miles', 'league'] ['kg', 'pound','stone']];\n",
        "print(units[0])\n",
        "print(units[1])\n",
        "print(units[0][0])\n",
        "print(units[1][0])\n",
        "print(units[0][1:])\n",
        "print(units[1][0:2])"
      ],
      "execution_count": null,
      "outputs": []
    },
    {
      "cell_type": "markdown",
      "metadata": {
        "id": "vYob9hZMt5nf"
      },
      "source": [
        "câu 11"
      ]
    },
    {
      "cell_type": "code",
      "metadata": {
        "id": "5NIKMfLAsvbr"
      },
      "source": [
        "units =  [['km', 'miles', 'league'] ['kg', 'pound','stone']];\n",
        "print(units[-2])\n",
        "print(units[-1])\n",
        "print(units[-2][-3])\n",
        "print(units[-1][-3])\n",
        "print(units[-2][-2:])\n",
        "print(units[-1][:-1])"
      ],
      "execution_count": null,
      "outputs": []
    },
    {
      "cell_type": "markdown",
      "metadata": {
        "id": "UVDGpcnkuCWi"
      },
      "source": [
        "## **Chương 9**"
      ]
    },
    {
      "cell_type": "markdown",
      "metadata": {
        "id": "ik5bpGmDuTzJ"
      },
      "source": [
        "câu 1"
      ]
    },
    {
      "cell_type": "code",
      "metadata": {
        "id": "jnz7P9UcuQDR"
      },
      "source": [
        "celegans_phenotypes =  ['Emb','Him', 'Unc', 'Lon', 'Dpy','Sma'];\n",
        "for phenotype in celegans_phenotypes:\n",
        "    print(phenotype)"
      ],
      "execution_count": null,
      "outputs": []
    },
    {
      "cell_type": "markdown",
      "metadata": {
        "id": "9CbuGrpVuX-M"
      },
      "source": [
        "câu 2"
      ]
    },
    {
      "cell_type": "code",
      "metadata": {
        "id": "Bv8vtz-5uQNp"
      },
      "source": [
        "half_lives = [87.74, 24110.0,6537.0, 14.4, 376000.0];\n",
        "for value in half_lives:\n",
        "    print(value,end='')"
      ],
      "execution_count": null,
      "outputs": []
    },
    {
      "cell_type": "markdown",
      "metadata": {
        "id": "6M_b2SfhudFK"
      },
      "source": [
        "câu 3"
      ]
    },
    {
      "cell_type": "code",
      "metadata": {
        "id": "3r24mk0LuQQI"
      },
      "source": [
        "whales =  [5, 4, 7, 3, 2, 3, 2, 6, 4, 2, 1, 7, 1, 3];\n",
        "more_whales = []\n",
        "for count in whales:\n",
        "    more_whales.append(count+1)\n",
        "print(more_whales)"
      ],
      "execution_count": null,
      "outputs": []
    },
    {
      "cell_type": "markdown",
      "metadata": {
        "id": "rAyLQcpzuiCA"
      },
      "source": [
        "câu 4"
      ]
    },
    {
      "cell_type": "code",
      "metadata": {
        "id": "B9ZVDw3luQTq"
      },
      "source": [
        "alkaline_earth_metals = [[4, 9.012], [12, 24.305],[20, 40.078], [38, 87.62],[56, 137.327], [88, 226]];\n",
        "#B\n",
        "for inner_list in alkaline_earth_metals:\n",
        "    print(inner_list[0])\n",
        "    print(inner_list[1])\n",
        "#C\n",
        "number_and_weight = [];\n",
        "for inner_list in alkaline_earth_metals:\n",
        "    number_and_weight.append(inner_list[0])\n",
        "    number_and_weight.append(inner_list[1])"
      ],
      "execution_count": null,
      "outputs": []
    },
    {
      "cell_type": "markdown",
      "metadata": {
        "id": "yGx5lbJ9umqn"
      },
      "source": [
        "câu 5"
      ]
    },
    {
      "cell_type": "code",
      "metadata": {
        "id": "W8_jT-rXuQVc"
      },
      "source": [
        "values = [[4,9.012],[12, 24.305],[20, 40.078],[38, 87.62],[56, 137.327],[88,226]]\n",
        "\n",
        "def mystery_function(values):\n",
        "    result = []\n",
        "    for sublist in values:\n",
        "        result.append([sublist[0]])\n",
        "        for i in sublist[1:]:\n",
        "            result[-1].insert(0, i)\n",
        "    return result\n",
        "\n",
        "mystery_function(values)"
      ],
      "execution_count": null,
      "outputs": []
    },
    {
      "cell_type": "markdown",
      "metadata": {
        "id": "SGsN3Dhtupbk"
      },
      "source": [
        "câu 6"
      ]
    },
    {
      "cell_type": "code",
      "metadata": {
        "id": "7YJKmcWyuQYL"
      },
      "source": [
        "text=\"\"\n",
        "\n",
        "while text.lower() != \"quit\":\n",
        "     text = input(\"What's Your Name(or 'quit' to exit):\")\n",
        "     if text.lower() == \"quit\":\n",
        "         print(\"_exiting program\")\n",
        "     else: print(\"Welcome\",text)"
      ],
      "execution_count": null,
      "outputs": []
    },
    {
      "cell_type": "markdown",
      "metadata": {
        "id": "zNjJcRiuwvLL"
      },
      "source": [
        "câu 7"
      ]
    },
    {
      "cell_type": "code",
      "metadata": {
        "id": "qu-gJM9Mwqtd"
      },
      "source": [
        "country_populations=[1295, 23, 7, 3, 47, 21]\n",
        "total=0\n",
        "for population in country_populations:\n",
        "    total+=population\n",
        "print(total)"
      ],
      "execution_count": null,
      "outputs": []
    },
    {
      "cell_type": "markdown",
      "metadata": {
        "id": "nOc2IAIbwwsj"
      },
      "source": [
        "câu 8"
      ]
    },
    {
      "cell_type": "code",
      "metadata": {
        "id": "9Yvxw6jHwqxe"
      },
      "source": [
        "rat_1=[2,5,3,6,3,4,5,7,3,5]\n",
        "rat_2=[6,4,3,2,3,5,3,4,5,6]\n",
        "\n",
        "def cauA():\n",
        "    if rat_1[0] >= rat_2[0]:\n",
        "        print(\"Rat 1 weighed more than rat 2 on day 1.\")\n",
        "    else:\n",
        "        print(\"Rat 1 weighed less than rat 2 on day 1.\")\n",
        "\n",
        "def cauB():\n",
        "    if rat_1[0] >= rat_2[0] and rat_1[8] >= rat_2[8]:\n",
        "         print(\"Rat 1 remained heaver than Rat 2.\")\n",
        "    else:\n",
        "         print(\"Rat 2 became heavier than Rat 1.\")\n",
        "def cauC():\n",
        "    if rat_1[0] >= rat_2[0]:\n",
        "        if rat_1[8] >= rat_2[8]:\n",
        "            print(\"Rat 1 remained heavier than rat 2.\")     \n",
        "        else:\n",
        "            print(\"Rat 2 became heavier than Rat 1.\")\n",
        "    else:\n",
        "         print(\"Rat 2 became heavier than Rat 1.\")\n",
        "cauC()"
      ],
      "execution_count": null,
      "outputs": []
    },
    {
      "cell_type": "markdown",
      "metadata": {
        "id": "ozWXRqp5w8Gi"
      },
      "source": [
        "câu 9"
      ]
    },
    {
      "cell_type": "code",
      "metadata": {
        "id": "76DeLBPFwq2F"
      },
      "source": [
        "for num in range(33, 50):\n",
        "    print (num)"
      ],
      "execution_count": null,
      "outputs": []
    },
    {
      "cell_type": "markdown",
      "metadata": {
        "id": "-YTWeU70xBVX"
      },
      "source": [
        "câu 10"
      ]
    },
    {
      "cell_type": "code",
      "metadata": {
        "id": "i-2n2Nwdwq5I"
      },
      "source": [
        "for number in range(10):\n",
        "    print(10 - number, end='')"
      ],
      "execution_count": null,
      "outputs": []
    },
    {
      "cell_type": "markdown",
      "metadata": {
        "id": "DqtlS3gNxDAh"
      },
      "source": [
        "câu 11"
      ]
    },
    {
      "cell_type": "code",
      "metadata": {
        "id": "iqKmG9cbwq7j"
      },
      "source": [
        "sum=0\n",
        "count=0\n",
        "for number in range(2,23):\n",
        "    sum+=number\n",
        "    count+=1\n",
        "for number in range(2,23):\n",
        "    print(number)\n",
        "average=sum/count\n",
        "print(average)"
      ],
      "execution_count": null,
      "outputs": []
    },
    {
      "cell_type": "markdown",
      "metadata": {
        "id": "x9luCMDHxEGr"
      },
      "source": [
        "câu 12"
      ]
    },
    {
      "cell_type": "code",
      "metadata": {
        "id": "3iqvv6WGxaab"
      },
      "source": [
        "from typing import List\n",
        "\n",
        "negatives=([1,2,3,-3,6,-1,-3,1])\n",
        "def remove_neg(negatives):\n",
        "    index = 0\n",
        "    while index < len(negatives):\n",
        "        if negatives[index] < 0:\n",
        "            del negatives[index]\n",
        "        else:\n",
        "            index+=1\n",
        "remove_neg(negatives)\n",
        "print(negatives)"
      ],
      "execution_count": null,
      "outputs": []
    },
    {
      "cell_type": "markdown",
      "metadata": {
        "id": "oGmvePIixF-x"
      },
      "source": [
        "câu 13"
      ]
    },
    {
      "cell_type": "code",
      "metadata": {
        "id": "vd6xCYV8wq-P"
      },
      "source": [
        "for width in range(1,8):\n",
        "    print('T'*width)"
      ],
      "execution_count": null,
      "outputs": []
    },
    {
      "cell_type": "markdown",
      "metadata": {
        "id": "R5bdjZjPxHNd"
      },
      "source": [
        "câu 14"
      ]
    },
    {
      "cell_type": "code",
      "metadata": {
        "id": "EA2SS8TqwrBs"
      },
      "source": [
        "for width in range(1,8):\n",
        "    print(' ' * (7 - width), 'T' * width)"
      ],
      "execution_count": null,
      "outputs": []
    },
    {
      "cell_type": "markdown",
      "metadata": {
        "id": "muR_3pk-xMCh"
      },
      "source": [
        "câu 15"
      ]
    },
    {
      "cell_type": "code",
      "metadata": {
        "id": "5iPMpr5axItI"
      },
      "source": [
        "width = 1\n",
        "def cauA(width):\n",
        "    while width < 8:\n",
        "        print('T' * width)\n",
        "        width += 1\n",
        "def cauB(width):\n",
        "    while width < 8:\n",
        "        print(' ' * ( 7 - width), 'T' * width, sep='')\n",
        "        width += 1\n",
        "cauA(width)\n",
        "cauB(width)"
      ],
      "execution_count": null,
      "outputs": []
    },
    {
      "cell_type": "markdown",
      "metadata": {
        "id": "BoD2K5HkxNpz"
      },
      "source": [
        "câu 16"
      ]
    },
    {
      "cell_type": "code",
      "metadata": {
        "id": "PORk7rqwxI59"
      },
      "source": [
        "rat_1=[2,5,3,6,3,4,5,7,3,5]\n",
        "rat_2=[6,4,3,2,3,5,3,4,5,6]\n",
        "\n",
        "rat_1_weight=rat_1\n",
        "rat_2_weight=rat_2\n",
        "\n",
        "def cauA():\n",
        "    week=1\n",
        "    while rat_1_weight[week]/rat_1_weight[0] -1 < .25:\n",
        "        week+=1\n",
        "    print(week)\n",
        "\n",
        "def cauB():\n",
        "    week=0\n",
        "    while rat_1_weight[week]/rat_2_weight[week] -1 < .10:\n",
        "        week+=1\n",
        "    print(week)\n",
        "\n",
        "cauA()\n",
        "cauB()"
      ],
      "execution_count": null,
      "outputs": []
    }
  ]
}