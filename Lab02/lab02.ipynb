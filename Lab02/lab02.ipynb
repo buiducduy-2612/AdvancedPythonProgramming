{
  "nbformat": 4,
  "nbformat_minor": 0,
  "metadata": {
    "colab": {
      "name": "Untitled0.ipynb",
      "provenance": [],
      "collapsed_sections": [],
      "authorship_tag": "ABX9TyODmD9SpyXDQDE48sFqCs10",
      "include_colab_link": true
    },
    "kernelspec": {
      "name": "python3",
      "display_name": "Python 3"
    },
    "language_info": {
      "name": "python"
    }
  },
  "cells": [
    {
      "cell_type": "markdown",
      "metadata": {
        "id": "view-in-github",
        "colab_type": "text"
      },
      "source": [
        "<a href=\"https://colab.research.google.com/github/ducduy2612-20/THPythonNC/blob/main/Lab02/lab02.ipynb\" target=\"_parent\"><img src=\"https://colab.research.google.com/assets/colab-badge.svg\" alt=\"Open In Colab\"/></a>"
      ]
    },
    {
      "cell_type": "markdown",
      "metadata": {
        "id": "uK5K3_ZVhso5"
      },
      "source": [
        "# **Chương 8**"
      ]
    },
    {
      "cell_type": "markdown",
      "metadata": {
        "id": "JPwqAsGmsYpH"
      },
      "source": [
        "câu 1"
      ]
    },
    {
      "cell_type": "code",
      "metadata": {
        "id": "pQ7enFvcHL3y",
        "colab": {
          "base_uri": "https://localhost:8080/"
        },
        "outputId": "daf153a8-8d0e-4389-9885-e77dcf6d18b5"
      },
      "source": [
        "kingdoms = ['Bacteria', 'Protozoa', 'Chromista','Plantae', 'Fungi','Animalia' ];\n",
        "print(kingdoms[0])\n",
        "print(kingdoms[5])\n",
        "print(kingdoms[:3])\n",
        "print(kingdoms[2:5])\n",
        "print(kingdoms[4:])\n",
        "print(kingdoms[1:0])"
      ],
      "execution_count": 2,
      "outputs": [
        {
          "output_type": "stream",
          "name": "stdout",
          "text": [
            "Bacteria\n",
            "Animalia\n",
            "['Bacteria', 'Protozoa', 'Chromista']\n",
            "['Chromista', 'Plantae', 'Fungi']\n",
            "['Fungi', 'Animalia']\n",
            "[]\n"
          ]
        }
      ]
    },
    {
      "cell_type": "markdown",
      "metadata": {
        "id": "wIiqdVqGsm25"
      },
      "source": [
        "câu 2"
      ]
    },
    {
      "cell_type": "code",
      "metadata": {
        "id": "3kU8MDPuhblP",
        "colab": {
          "base_uri": "https://localhost:8080/"
        },
        "outputId": "7e4fa1a5-3559-42ce-b140-64761936143a"
      },
      "source": [
        "kingdoms = ['Bacteria', 'Protozoa', 'Chromista','Plantae', 'Fungi','Animalia' ];\n",
        "print(kingdoms[-6])\n",
        "print(kingdoms[-1])\n",
        "print(kingdoms[-6:-3])\n",
        "print(kingdoms[-4:-1])\n",
        "print(kingdoms[-2:])\n",
        "print(kingdoms[-1:-2])"
      ],
      "execution_count": 3,
      "outputs": [
        {
          "output_type": "stream",
          "name": "stdout",
          "text": [
            "Bacteria\n",
            "Animalia\n",
            "['Bacteria', 'Protozoa', 'Chromista']\n",
            "['Chromista', 'Plantae', 'Fungi']\n",
            "['Fungi', 'Animalia']\n",
            "[]\n"
          ]
        }
      ]
    },
    {
      "cell_type": "markdown",
      "metadata": {
        "id": "jFTH4Albs0P9"
      },
      "source": [
        "câu 3"
      ]
    },
    {
      "cell_type": "code",
      "metadata": {
        "colab": {
          "base_uri": "https://localhost:8080/"
        },
        "id": "FqThOyrvsu9F",
        "outputId": "d8ef7ddf-5ec9-4b78-aa99-a195cc9d0f09"
      },
      "source": [
        "appointments=['9:00', '10:30', '14:00', '15:00','15:30'];\n",
        "appointments.append('16:30')\n",
        "print(appointments)\n",
        "#Cau B\n",
        "appointments += ['16:30']\n",
        "# Cau C:: The approach in (a) modifies the appointments. The one in (b) creates a new appointments"
      ],
      "execution_count": 4,
      "outputs": [
        {
          "output_type": "stream",
          "name": "stdout",
          "text": [
            "['9:00', '10:30', '14:00', '15:00', '15:30', '16:30']\n"
          ]
        }
      ]
    },
    {
      "cell_type": "markdown",
      "metadata": {
        "id": "AtLQHfQCs2VG"
      },
      "source": [
        "câu 4"
      ]
    },
    {
      "cell_type": "code",
      "metadata": {
        "id": "3NqM13YosvHF"
      },
      "source": [
        "list [4353, 2314, 2956, 3382, 9362, 3900];\n",
        "list.remove(3382)\n",
        "list\n",
        "# Cau B\n",
        "list.index(9362)\n",
        "list\n",
        "#Cau C\n",
        "list.insert(list.index(9362)+1,4499)\n",
        "list\n",
        "#Cau D\n",
        "list = list + [5566,1830]\n",
        "list\n",
        "#Cau E\n",
        "print(reversed(list))\n",
        "#Cau F\n",
        "print(sorted(list))"
      ],
      "execution_count": 7,
      "outputs": []
    },
    {
      "cell_type": "markdown",
      "metadata": {
        "id": "YV2K7slytD8_"
      },
      "source": [
        "câu 5"
      ]
    },
    {
      "cell_type": "code",
      "metadata": {
        "id": "4ID-mAgGsvJ3"
      },
      "source": [
        "alkaline_earth_metals = [4,12,20,38,56,88];\n",
        "alkaline_earth_metals[5]\n",
        "alkaline_earth_metals[-1]\n",
        "len(alkaline_earth_metals)\n",
        "max(alkaline_earth_metals)"
      ],
      "execution_count": null,
      "outputs": []
    },
    {
      "cell_type": "markdown",
      "metadata": {
        "id": "MBt_tifKs5m0"
      },
      "source": [
        "câu 6"
      ]
    },
    {
      "cell_type": "code",
      "metadata": {
        "id": "bRcl1l_2svM9"
      },
      "source": [
        "temp=[25.2,16.8,31.4,23.9,28,22.5,16.9];\n",
        "temp.sort()\n",
        "print(temp)\n",
        "cool_temp = temp[0:2];\n",
        "print(cool_temp)\n",
        "warm_temp = temp[2:];\n",
        "print(warm_temp)"
      ],
      "execution_count": null,
      "outputs": []
    },
    {
      "cell_type": "markdown",
      "metadata": {
        "id": "iU2ekTVGtRyY"
      },
      "source": [
        "câu 7"
      ]
    },
    {
      "cell_type": "code",
      "metadata": {
        "id": "OMrtEOM5svPq"
      },
      "source": [
        "def same_first_last(L:list) -> bool:\n",
        "    if  len(L) >= 2:\n",
        "        return L[0] == L[-1]\n",
        "\n",
        "print(same_first_last([3, 4, 2, 8, 3]))\n",
        "print(same_first_last(['apple', 'banana', 'pear']))\n",
        "print(same_first_last([4.0, 4.5]))"
      ],
      "execution_count": null,
      "outputs": []
    },
    {
      "cell_type": "markdown",
      "metadata": {
        "id": "jHEd4LhetTCs"
      },
      "source": [
        "câu 8"
      ]
    },
    {
      "cell_type": "code",
      "metadata": {
        "id": "X8C32y5CsvR2"
      },
      "source": [
        "def is_longer(L1: list, L2: list) -> bool:\n",
        "    return len(L1) > len(L2)\n",
        "print( is_longer([1, 2, 3], [4, 5]))\n",
        "print( is_longer(['abcdef'], ['ab', 'cd', 'ef']))\n",
        "print(is_longer(['a', 'b', 'c'], [1, 2, 3]))"
      ],
      "execution_count": null,
      "outputs": []
    },
    {
      "cell_type": "markdown",
      "metadata": {
        "id": "Z6hA1qgbtwIf"
      },
      "source": [
        "câu 9"
      ]
    },
    {
      "cell_type": "code",
      "metadata": {
        "id": "L-gR2d2DsvU5"
      },
      "source": [
        ""
      ],
      "execution_count": null,
      "outputs": []
    },
    {
      "cell_type": "markdown",
      "metadata": {
        "id": "2uBVB0sWt3xs"
      },
      "source": [
        "câu 10"
      ]
    },
    {
      "cell_type": "code",
      "metadata": {
        "id": "8U5pCE-esvYA"
      },
      "source": [
        "units =  [['km', 'miles', 'league'] ['kg', 'pound','stone']];\n",
        "print(units[0])\n",
        "print(units[1])\n",
        "print(units[0][0])\n",
        "print(units[1][0])\n",
        "print(units[0][1:])\n",
        "print(units[1][0:2])"
      ],
      "execution_count": null,
      "outputs": []
    },
    {
      "cell_type": "markdown",
      "metadata": {
        "id": "vYob9hZMt5nf"
      },
      "source": [
        "câu 11"
      ]
    },
    {
      "cell_type": "code",
      "metadata": {
        "id": "5NIKMfLAsvbr"
      },
      "source": [
        "units =  [['km', 'miles', 'league'] ['kg', 'pound','stone']];\n",
        "print(units[-2])\n",
        "print(units[-1])\n",
        "print(units[-2][-3])\n",
        "print(units[-1][-3])\n",
        "print(units[-2][-2:])\n",
        "print(units[-1][:-1])"
      ],
      "execution_count": null,
      "outputs": []
    },
    {
      "cell_type": "markdown",
      "metadata": {
        "id": "UVDGpcnkuCWi"
      },
      "source": [
        "## **Chương 9**"
      ]
    },
    {
      "cell_type": "markdown",
      "metadata": {
        "id": "ik5bpGmDuTzJ"
      },
      "source": [
        "câu 1"
      ]
    },
    {
      "cell_type": "code",
      "metadata": {
        "id": "jnz7P9UcuQDR"
      },
      "source": [
        "celegans_phenotypes =  ['Emb','Him', 'Unc', 'Lon', 'Dpy','Sma'];\n",
        "for phenotype in celegans_phenotypes:\n",
        "    print(phenotype)"
      ],
      "execution_count": null,
      "outputs": []
    },
    {
      "cell_type": "markdown",
      "metadata": {
        "id": "9CbuGrpVuX-M"
      },
      "source": [
        "câu 2"
      ]
    },
    {
      "cell_type": "code",
      "metadata": {
        "id": "Bv8vtz-5uQNp"
      },
      "source": [
        "half_lives = [87.74, 24110.0,6537.0, 14.4, 376000.0];\n",
        "for value in half_lives:\n",
        "    print(value,end='')"
      ],
      "execution_count": null,
      "outputs": []
    },
    {
      "cell_type": "markdown",
      "metadata": {
        "id": "6M_b2SfhudFK"
      },
      "source": [
        "câu 3"
      ]
    },
    {
      "cell_type": "code",
      "metadata": {
        "id": "3r24mk0LuQQI"
      },
      "source": [
        "whales =  [5, 4, 7, 3, 2, 3, 2, 6, 4, 2, 1, 7, 1, 3];\n",
        "more_whales = []\n",
        "for count in whales:\n",
        "    more_whales.append(count+1)\n",
        "print(more_whales)"
      ],
      "execution_count": null,
      "outputs": []
    },
    {
      "cell_type": "markdown",
      "metadata": {
        "id": "rAyLQcpzuiCA"
      },
      "source": [
        "câu 4"
      ]
    },
    {
      "cell_type": "code",
      "metadata": {
        "id": "B9ZVDw3luQTq"
      },
      "source": [
        "alkaline_earth_metals = [[4, 9.012], [12, 24.305],[20, 40.078], [38, 87.62],[56, 137.327], [88, 226]];\n",
        "#B\n",
        "for inner_list in alkaline_earth_metals:\n",
        "    print(inner_list[0])\n",
        "    print(inner_list[1])\n",
        "#C\n",
        "number_and_weight = [];\n",
        "for inner_list in alkaline_earth_metals:\n",
        "    number_and_weight.append(inner_list[0])\n",
        "    number_and_weight.append(inner_list[1])"
      ],
      "execution_count": null,
      "outputs": []
    },
    {
      "cell_type": "markdown",
      "metadata": {
        "id": "yGx5lbJ9umqn"
      },
      "source": [
        "câu 5"
      ]
    },
    {
      "cell_type": "code",
      "metadata": {
        "id": "W8_jT-rXuQVc"
      },
      "source": [
        ""
      ],
      "execution_count": null,
      "outputs": []
    },
    {
      "cell_type": "markdown",
      "metadata": {
        "id": "SGsN3Dhtupbk"
      },
      "source": [
        "câu 6"
      ]
    },
    {
      "cell_type": "code",
      "metadata": {
        "id": "7YJKmcWyuQYL"
      },
      "source": [
        "text = \"\"\n",
        "while text.lower() != \"quit\":\n",
        "    text = input(\"Please enter a chemical formula (or 'quit' to exit): \")\n",
        "if text == \"quit\":\n",
        "    print(\"...exiting program\")\n",
        "elif text == \"H2O\":\n",
        "    print(\"Water\")\n",
        "elif text == \"NH3\":\n",
        "    print(\"Ammonia\")\n",
        "elif text == \"CH4\":\n",
        "    print(\"Methane\")\n",
        "else:\n",
        "    print(\"Unknown compound\")"
      ],
      "execution_count": null,
      "outputs": []
    }
  ]
}