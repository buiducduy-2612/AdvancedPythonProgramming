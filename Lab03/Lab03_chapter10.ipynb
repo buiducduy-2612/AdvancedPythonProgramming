{
  "nbformat": 4,
  "nbformat_minor": 2,
  "metadata": {
    "colab": {
      "name": "Lab03_chapter10.ipynb",
      "provenance": [],
      "collapsed_sections": [],
      "include_colab_link": true
    },
    "kernelspec": {
      "name": "python3",
      "display_name": "Python 3.9.6 64-bit"
    },
    "language_info": {
      "name": "python",
      "version": "3.9.6",
      "mimetype": "text/x-python",
      "codemirror_mode": {
        "name": "ipython",
        "version": 3
      },
      "pygments_lexer": "ipython3",
      "nbconvert_exporter": "python",
      "file_extension": ".py"
    },
    "interpreter": {
      "hash": "33dc6d49505b4536b6a128d9d7c879e1fa44477ad44947bbbe73093067fe6393"
    }
  },
  "cells": [
    {
      "cell_type": "markdown",
      "source": [
        "<a href=\"https://colab.research.google.com/github/ducduy2612-20/AdvancedPythonProgramming/blob/main/Lab03/Lab03_chapter10.ipynb\" target=\"_parent\"><img src=\"https://colab.research.google.com/assets/colab-badge.svg\" alt=\"Open In Colab\"/></a>"
      ],
      "metadata": {
        "id": "view-in-github",
        "colab_type": "text"
      }
    },
    {
      "cell_type": "markdown",
      "source": [
        "# **Homework Lab03**"
      ],
      "metadata": {
        "id": "YhbbmDTbJpF4"
      }
    },
    {
      "cell_type": "markdown",
      "source": [
        "câu 1"
      ],
      "metadata": {
        "id": "XNfMc3ckUpNS"
      }
    },
    {
      "cell_type": "code",
      "execution_count": 13,
      "source": [
        "file = input('Which file would you like to back-up ? ')\r\n",
        "name_file = file.split('.')[0]  \r\n",
        "new_file = name_file + '_backup' + '.bak'\r\n",
        "backup = open(new_file, 'w')\r\n",
        "for line in open(file):\r\n",
        "    print(line)\r\n",
        "    backup.write(line)\r\n",
        "backup.close()"
      ],
      "outputs": [
        {
          "output_type": "error",
          "ename": "FileNotFoundError",
          "evalue": "[Errno 2] No such file or directory: ''",
          "traceback": [
            "\u001b[1;31m---------------------------------------------------------------------------\u001b[0m",
            "\u001b[1;31mFileNotFoundError\u001b[0m                         Traceback (most recent call last)",
            "\u001b[1;32m~\\AppData\\Local\\Temp/ipykernel_13848/1098042361.py\u001b[0m in \u001b[0;36m<module>\u001b[1;34m\u001b[0m\n\u001b[0;32m      3\u001b[0m \u001b[0mnew_file\u001b[0m \u001b[1;33m=\u001b[0m \u001b[0mname_file\u001b[0m \u001b[1;33m+\u001b[0m \u001b[1;34m'_backup'\u001b[0m \u001b[1;33m+\u001b[0m \u001b[1;34m'.bak'\u001b[0m \u001b[1;31m# tạo file backup: TenFile_backup.bak\u001b[0m\u001b[1;33m\u001b[0m\u001b[1;33m\u001b[0m\u001b[0m\n\u001b[0;32m      4\u001b[0m \u001b[0mbackup\u001b[0m \u001b[1;33m=\u001b[0m \u001b[0mopen\u001b[0m\u001b[1;33m(\u001b[0m\u001b[0mnew_file\u001b[0m\u001b[1;33m,\u001b[0m \u001b[1;34m'w'\u001b[0m\u001b[1;33m)\u001b[0m\u001b[1;33m\u001b[0m\u001b[1;33m\u001b[0m\u001b[0m\n\u001b[1;32m----> 5\u001b[1;33m \u001b[1;32mfor\u001b[0m \u001b[0mline\u001b[0m \u001b[1;32min\u001b[0m \u001b[0mopen\u001b[0m\u001b[1;33m(\u001b[0m\u001b[0mfile\u001b[0m\u001b[1;33m)\u001b[0m\u001b[1;33m:\u001b[0m\u001b[1;33m\u001b[0m\u001b[1;33m\u001b[0m\u001b[0m\n\u001b[0m\u001b[0;32m      6\u001b[0m     \u001b[0mprint\u001b[0m\u001b[1;33m(\u001b[0m\u001b[0mline\u001b[0m\u001b[1;33m)\u001b[0m\u001b[1;33m\u001b[0m\u001b[1;33m\u001b[0m\u001b[0m\n\u001b[0;32m      7\u001b[0m     \u001b[0mbackup\u001b[0m\u001b[1;33m.\u001b[0m\u001b[0mwrite\u001b[0m\u001b[1;33m(\u001b[0m\u001b[0mline\u001b[0m\u001b[1;33m)\u001b[0m\u001b[1;33m\u001b[0m\u001b[1;33m\u001b[0m\u001b[0m\n",
            "\u001b[1;31mFileNotFoundError\u001b[0m: [Errno 2] No such file or directory: ''"
          ]
        }
      ],
      "metadata": {
        "id": "iWQdjIjrUg0v"
      }
    },
    {
      "cell_type": "markdown",
      "source": [
        "câu 2"
      ],
      "metadata": {
        "id": "T4-4knJFVgKw"
      }
    },
    {
      "cell_type": "code",
      "execution_count": 2,
      "source": [
        "alkaline_metals = []\r\n",
        "for line in open('alkaline_metals.txt'):\r\n",
        " alkaline_metals.append(line.strip().split(' '))\r\n",
        "print(alkaline_metals)"
      ],
      "outputs": [
        {
          "output_type": "stream",
          "name": "stdout",
          "text": [
            "[['beryllium', '4', '9.012'], ['magnesium', '12', '24.305'], ['calcium', '20', '20.078'], ['strontium', '38', '87.62'], ['barium', '56', '137.327'], ['radium', '88', '226']]\n"
          ]
        }
      ],
      "metadata": {
        "id": "O224FS7eVerQ"
      }
    },
    {
      "cell_type": "markdown",
      "source": [
        "câu 3"
      ],
      "metadata": {
        "id": "5sCvYOWbYCXW"
      }
    },
    {
      "cell_type": "code",
      "execution_count": 3,
      "source": [
        "content = []\r\n",
        "for line in open('ducduy.txt'):\r\n",
        "    content.append(line)\r\n",
        "print('Doc nguoc file :\\n ',)\r\n",
        "for line in reversed(content):\r\n",
        "    print(line)"
      ],
      "outputs": [
        {
          "output_type": "stream",
          "name": "stdout",
          "text": [
            "Doc nguoc file :\n",
            " \n",
            "6\n",
            "7\n",
            "\n",
            "8\n",
            "\n",
            "9\n",
            "\n",
            "-\n",
            "\n",
            "10\n",
            "\n",
            "Bang diem:\n",
            "\n",
            "CNTT\n",
            "\n",
            "21\n",
            "\n",
            "TP.HCM\n",
            "\n",
            "Bui Duc Duy - 187IT06773\n",
            "\n",
            "Thong tin sinh vien\n",
            "\n"
          ]
        }
      ],
      "metadata": {
        "id": "RJ1XtpF8JFZr"
      }
    },
    {
      "cell_type": "markdown",
      "source": [
        "câu 4"
      ],
      "metadata": {
        "id": "mwLWSdjMYET1"
      }
    },
    {
      "cell_type": "code",
      "execution_count": 4,
      "source": [
        "def skip_header(reader):\r\n",
        "    \r\n",
        "    # Read the description line and then the comment lines.\r\n",
        "    line = reader.readline()    \r\n",
        "    line = reader.readline()\r\n",
        "    while line.startswith('#'):\r\n",
        "        line = reader.readline() \r\n",
        "    # Now line contains the first real piece of data.\r\n",
        "    return line\r\n",
        "\r\n",
        "def process_file(reader):\r\n",
        "    # Find the first piece of data.\r\n",
        "    line = skip_header(reader).strip()\r\n",
        "    print(line)\r\n",
        "    # Read the rest of the data.\r\n",
        "    for line in reader:\r\n",
        "        line = line.strip()\r\n",
        "        print(line)\r\n",
        "\r\n",
        "input_file = open('ducduy.txt', 'r')\r\n",
        "process_file(input_file)\r\n",
        "input_file.close()"
      ],
      "outputs": [
        {
          "output_type": "stream",
          "name": "stdout",
          "text": [
            "Bui Duc Duy - 187IT06773\n",
            "TP.HCM\n",
            "21\n",
            "CNTT\n",
            "Bang diem:\n",
            "10\n",
            "-\n",
            "9\n",
            "8\n",
            "7\n",
            "6\n"
          ]
        }
      ],
      "metadata": {
        "id": "STcD36R3YF7f"
      }
    },
    {
      "cell_type": "markdown",
      "source": [
        "câu 5"
      ],
      "metadata": {
        "id": "AYbPsxZxJFZw"
      }
    },
    {
      "cell_type": "code",
      "execution_count": 5,
      "source": [
        "def smallest_value_skip(reader):\r\n",
        "    line = skip_header(reader).strip()\r\n",
        "    # Only execute this code, if there is data following the header.\r\n",
        "    if line != '':\r\n",
        "        smallest = line\r\n",
        "    for line in reader:\r\n",
        "        line = line.strip()\r\n",
        "        if line != '-':\r\n",
        "            value = line\r\n",
        "            smallest = min(smallest, value)\r\n",
        "    return smallest\r\n",
        "\r\n",
        "input_file = open('ducduy.txt', 'r')\r\n",
        "print(smallest_value_skip(input_file))\r\n",
        "input_file.close()"
      ],
      "outputs": [
        {
          "output_type": "stream",
          "name": "stdout",
          "text": [
            "10\n"
          ]
        }
      ],
      "metadata": {
        "id": "CVDHMd7OJFZx"
      }
    },
    {
      "cell_type": "markdown",
      "source": [
        "câu 6"
      ],
      "metadata": {
        "id": "__F1t6QdJFZy"
      }
    },
    {
      "cell_type": "code",
      "execution_count": 6,
      "source": [
        "def smallest_value_skip2(reader):\r\n",
        "    line = skip_header(reader).strip()\r\n",
        "    # Now line contains the first data value; this is also the smallest value\r\n",
        "    # found so far, because it is the only one we have seen.\r\n",
        "    smallest = line\r\n",
        "\r\n",
        "    for line in reader: \r\n",
        "        line = line.strip()\r\n",
        "        if line == '-':\r\n",
        "            continue\r\n",
        "\r\n",
        "    value = line\r\n",
        "    smallest = min(smallest, value)\r\n",
        "\r\n",
        "    return smallest\r\n",
        "\r\n",
        "input_file = open('ducduy.txt', 'r')\r\n",
        "print(smallest_value_skip2(input_file))\r\n",
        "input_file.close()"
      ],
      "outputs": [
        {
          "output_type": "stream",
          "name": "stdout",
          "text": [
            "6\n"
          ]
        }
      ],
      "metadata": {
        "id": "leL0IJy-JFZy"
      }
    },
    {
      "cell_type": "markdown",
      "source": [
        "câu 7"
      ],
      "metadata": {
        "id": "AopREtKZJFZz"
      }
    },
    {
      "cell_type": "code",
      "execution_count": 7,
      "source": [
        "def read_molecule(reader):\r\n",
        "    content = []\r\n",
        "    for line in reader:\r\n",
        "        if not line.startswith('CMNT'):\r\n",
        "            if not line.isspace():\r\n",
        "                content.append(line.strip())\r\n",
        "    for line in content:\r\n",
        "        print(line)\r\n",
        "    \r\n",
        "input_file = open('ducduy.pdb', 'r')\r\n",
        "print(read_molecule(input_file))\r\n",
        "input_file.close()"
      ],
      "outputs": [
        {
          "output_type": "stream",
          "name": "stdout",
          "text": [
            "Thong tin sinh vien\n",
            "Bui Duc Duy - 187IT06773\n",
            "TP.HCM\n",
            "21\n",
            "CNTT\n",
            "Bang diem:\n",
            "10\n",
            "-\n",
            "9\n",
            "8\n",
            "7\n",
            "6\n",
            "None\n"
          ]
        }
      ],
      "metadata": {
        "id": "iFL3voM8JFZ0"
      }
    }
  ]
}