{
  "nbformat": 4,
  "nbformat_minor": 0,
  "metadata": {
    "colab": {
      "name": "Lab03_chapter10.ipynb",
      "provenance": [],
      "collapsed_sections": [],
      "include_colab_link": true
    },
    "kernelspec": {
      "name": "python3",
      "display_name": "Python 3.9.7 64-bit"
    },
    "language_info": {
      "name": "python",
      "version": "3.9.7",
      "mimetype": "text/x-python",
      "codemirror_mode": {
        "name": "ipython",
        "version": 3
      },
      "pygments_lexer": "ipython3",
      "nbconvert_exporter": "python",
      "file_extension": ".py"
    },
    "interpreter": {
      "hash": "1b09a2114f766ade8c96d59fac53e9a7786b8135e6a60da3583914e83d6a2b76"
    }
  },
  "cells": [
    {
      "cell_type": "markdown",
      "metadata": {
        "id": "view-in-github",
        "colab_type": "text"
      },
      "source": [
        "<a href=\"https://colab.research.google.com/github/ducduy2612-20/AdvancedPythonProgramming/blob/main/Lab03/Lab03_chapter10.ipynb\" target=\"_parent\"><img src=\"https://colab.research.google.com/assets/colab-badge.svg\" alt=\"Open In Colab\"/></a>"
      ]
    },
    {
      "cell_type": "markdown",
      "metadata": {
        "id": "YhbbmDTbJpF4"
      },
      "source": [
        "# **Homework Lab03**"
      ]
    },
    {
      "cell_type": "markdown",
      "metadata": {
        "id": "XNfMc3ckUpNS"
      },
      "source": [
        "câu 1"
      ]
    },
    {
      "cell_type": "code",
      "metadata": {
        "id": "iWQdjIjrUg0v"
      },
      "source": [
        "filename = input('Which file would you like to back-up? ')\n",
        "new_filename = filename + '.bak'\n",
        "backup = open(new_filename, 'w')\n",
        "\n",
        "for line in open(filename):\n",
        " backup.write(line)\n",
        " \n",
        "backup.close()"
      ],
      "execution_count": null,
      "outputs": []
    },
    {
      "cell_type": "markdown",
      "metadata": {
        "id": "T4-4knJFVgKw"
      },
      "source": [
        "câu 2"
      ]
    },
    {
      "cell_type": "code",
      "metadata": {
        "id": "O224FS7eVerQ"
      },
      "source": [
        "alkaline_metals = []\n",
        "for line in open('alkaline_metals.txt'):\n",
        " alkaline_metals.append(line.strip().split(' '))\n",
        "print(alkaline_metals)"
      ],
      "execution_count": null,
      "outputs": []
    },
    {
      "cell_type": "markdown",
      "metadata": {
        "id": "5sCvYOWbYCXW"
      },
      "source": [
        "câu 3"
      ]
    },
    {
      "cell_type": "code",
      "metadata": {
        "id": "RJ1XtpF8JFZr"
      },
      "source": [
        "content = []\n",
        "for line in open('ducduy.txt'):\n",
        "    content.append(line)\n",
        "print('Doc nguoc file :\\n ',)\n",
        "for line in reversed(content):\n",
        "    print(line)"
      ],
      "execution_count": null,
      "outputs": []
    },
    {
      "cell_type": "markdown",
      "metadata": {
        "id": "mwLWSdjMYET1"
      },
      "source": [
        "câu 4"
      ]
    },
    {
      "cell_type": "code",
      "metadata": {
        "id": "STcD36R3YF7f"
      },
      "source": [
        "def skip_header(reader):\n",
        "    \n",
        "    # Read the description line and then the comment lines.\n",
        "    line = reader.readline()    \n",
        "    line = reader.readline()\n",
        "    while line.startswith('#'):\n",
        "        line = reader.readline() \n",
        "    # Now line contains the first real piece of data.\n",
        "    return line\n",
        "\n",
        "def process_file(reader):\n",
        "    # Find the first piece of data.\n",
        "    line = skip_header(reader).strip()\n",
        "    print(line)\n",
        "    # Read the rest of the data.\n",
        "    for line in reader:\n",
        "        line = line.strip()\n",
        "        print(line)\n",
        "\n",
        "input_file = open('ducduy.txt', 'r')\n",
        "process_file(input_file)\n",
        "input_file.close()"
      ],
      "execution_count": null,
      "outputs": []
    },
    {
      "cell_type": "markdown",
      "metadata": {
        "id": "AYbPsxZxJFZw"
      },
      "source": [
        "câu 5"
      ]
    },
    {
      "cell_type": "code",
      "metadata": {
        "id": "CVDHMd7OJFZx"
      },
      "source": [
        "def smallest_value_skip(reader):\n",
        "    line = skip_header(reader).strip()\n",
        "    # Only execute this code, if there is data following the header.\n",
        "    if line != '':\n",
        "        smallest = line\n",
        "    for line in reader:\n",
        "        line = line.strip()\n",
        "        if line != '-':\n",
        "            value = line\n",
        "            smallest = min(smallest, value)\n",
        "    return smallest\n",
        "\n",
        "input_file = open('ducduy.txt', 'r')\n",
        "print(smallest_value_skip(input_file))\n",
        "input_file.close()"
      ],
      "execution_count": null,
      "outputs": []
    },
    {
      "cell_type": "markdown",
      "metadata": {
        "id": "__F1t6QdJFZy"
      },
      "source": [
        "câu 6"
      ]
    },
    {
      "cell_type": "code",
      "metadata": {
        "id": "leL0IJy-JFZy"
      },
      "source": [
        "def smallest_value_skip2(reader):\n",
        "    line = skip_header(reader).strip()\n",
        "    # Now line contains the first data value; this is also the smallest value\n",
        "    # found so far, because it is the only one we have seen.\n",
        "    smallest = line\n",
        "\n",
        "    for line in reader: \n",
        "        line = line.strip()\n",
        "        if line == '-':\n",
        "            continue\n",
        "\n",
        "    value = line\n",
        "    smallest = min(smallest, value)\n",
        "\n",
        "    return smallest\n",
        "\n",
        "input_file = open('ducduy.txt', 'r')\n",
        "print(smallest_value_skip2(input_file))\n",
        "input_file.close()"
      ],
      "execution_count": null,
      "outputs": []
    },
    {
      "cell_type": "markdown",
      "metadata": {
        "id": "AopREtKZJFZz"
      },
      "source": [
        "câu 7"
      ]
    },
    {
      "cell_type": "code",
      "metadata": {
        "id": "iFL3voM8JFZ0"
      },
      "source": [
        "def read_molecule(reader):\n",
        "    content = []\n",
        "    for line in reader:\n",
        "        if not line.startswith('CMNT'):\n",
        "            if not line.isspace():\n",
        "                content.append(line.strip())\n",
        "    for line in content:\n",
        "        print(line)\n",
        "    \n",
        "input_file = open('ducduy.pdb', 'r')\n",
        "print(read_molecule(input_file))\n",
        "input_file.close()"
      ],
      "execution_count": null,
      "outputs": []
    }
  ]
}