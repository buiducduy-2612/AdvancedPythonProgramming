{
  "cells": [
    {
      "cell_type": "markdown",
      "metadata": {
        "colab_type": "text",
        "id": "view-in-github"
      },
      "source": [
        "<a href=\"https://colab.research.google.com/github/ducduy2612-20/AdvancedPythonProgramming/blob/main/Lab04/Lab04_chapter11.ipynb\" target=\"_parent\"><img src=\"https://colab.research.google.com/assets/colab-badge.svg\" alt=\"Open In Colab\"/></a>"
      ]
    },
    {
      "cell_type": "markdown",
      "metadata": {
        "id": "gkOvSPpWaHNa"
      },
      "source": [
        "# **LAB 04**"
      ]
    },
    {
      "cell_type": "markdown",
      "metadata": {
        "id": "3BHwbL_gaGcj"
      },
      "source": [
        "Bài 1"
      ]
    },
    {
      "cell_type": "code",
      "execution_count": null,
      "metadata": {
        "colab": {
          "base_uri": "https://localhost:8080/"
        },
        "id": "pOGz7IqHQkDF",
        "outputId": "d00ebb4b-8c5c-45d0-93f0-395542a5c4e5"
      },
      "outputs": [
        {
          "data": {
            "text/plain": [
              "{1, 2, 3}"
            ]
          },
          "execution_count": 1,
          "metadata": {},
          "output_type": "execute_result"
        }
      ],
      "source": [
        "def find_dups(L):\n",
        "    elem_set = set()\n",
        "    dups_set = set()\n",
        "    for entry in L:\n",
        "        len_initial = len(elem_set)\n",
        "        elem_set.add(entry)\n",
        "        len_after = len(elem_set)\n",
        "        if len_initial == len_after:\n",
        "            dups_set.add(entry)\n",
        "    return(dups_set)\n",
        "list_integers = [1,1,2,2,3,3,4,5,6,7,8,9]\n",
        "find_dups(list_integers)"
      ]
    },
    {
      "cell_type": "markdown",
      "metadata": {
        "id": "ch8-WuhlaGcp"
      },
      "source": [
        "Bài 2"
      ]
    },
    {
      "cell_type": "code",
      "execution_count": null,
      "metadata": {
        "id": "XNpCYjrCaGcq",
        "outputId": "09eee64e-7f6c-48d7-cfcc-a124700e1c75"
      },
      "outputs": [
        {
          "name": "stdout",
          "output_type": "stream",
          "text": [
            "[['AMMONIA', ['N', '0.257', '-0.363', '0.000'], ['H', '0.257', '0.727', '0.000'], ['H', '0.771', '-0.727', '0.890'], ['H', '0.771', '-0.727', '-0.890']], ['METHANOL', ['C', '-0.748', '-0.015', '0.024'], ['O', '0.558', '0.420', '-0.278'], ['H', '-1.293', '-0.202', '-0.901'], ['H', '-1.263', '0.754', '0.600'], ['H', '-0.699', '-0.934', '0.609'], ['H', '0.716', '1.404', '0.137']]]\n"
          ]
        }
      ],
      "source": [
        "def read_molecule(reader):\n",
        "    \n",
        "    line = reader.readline()\n",
        "    if not line:\n",
        "        return None\n",
        "\n",
        "    key, name = line.split()\n",
        "\n",
        "    molecule = [name]\n",
        "    line = reader.readline()\n",
        "    \n",
        "   \n",
        "    while not line.startswith('END'):\n",
        "        key, num, atom_type, x, y, z = line.split()\n",
        "        molecule.append([atom_type, x, y, z])\n",
        "        line = reader.readline()\n",
        "    return molecule\n",
        "\n",
        "def read_all_molecules(reader):\n",
        "    result = []\n",
        "    reading = True\n",
        "    while reading:\n",
        "        molecule = read_molecule(reader)\n",
        "        if molecule: \n",
        "            result.append(molecule)\n",
        "        else:\n",
        "            reading = False\n",
        "    return result\n",
        "if __name__ == \"__main__\":\n",
        "    molecule_file = open('multimol.pdb','r')\n",
        "    molecules = read_all_molecules(molecule_file)\n",
        "    print(molecules)"
      ]
    },
    {
      "cell_type": "markdown",
      "metadata": {
        "id": "vv9D7dTlaGcr"
      },
      "source": [
        "Bài 3"
      ]
    },
    {
      "cell_type": "code",
      "execution_count": 2,
      "metadata": {
        "id": "caOFuD1gaGcr",
        "outputId": "b84343a1-fafe-41cd-9c43-8484d4dd2c0c"
      },
      "outputs": [
        {
          "data": {
            "text/plain": [
              "{('Nam1', 'Nu3'), ('Nam2', 'Nu2'), ('Nam3', 'Nu1')}"
            ]
          },
          "execution_count": 2,
          "metadata": {},
          "output_type": "execute_result"
        }
      ],
      "source": [
        "def mating_pairs(males, females):\n",
        "    try:\n",
        "        pairs = set()\n",
        "        num_gerbils = len(males)\n",
        "        for i in range(num_gerbils):\n",
        "            male = males.pop()\n",
        "            female = females.pop()\n",
        "            pairs.add((male, female),)\n",
        "        return pairs\n",
        "    except:\n",
        "        return print(\"Số lượng Males và Females phải bằng nhau\")\n",
        "males = {'Nam1', 'Nam2', 'Nam3'}\n",
        "females = {'Nu1', 'Nu2', 'Nu3'}\n",
        "mating_pairs(males, females)"
      ]
    },
    {
      "cell_type": "markdown",
      "metadata": {
        "id": "zM3n-_TEaGcs"
      },
      "source": [
        "Bài 4"
      ]
    },
    {
      "cell_type": "code",
      "execution_count": 1,
      "metadata": {
        "id": "HTW2Zvw-aGct",
        "outputId": "693c52a2-ab3d-4d4e-98a3-f872b81d2267"
      },
      "outputs": [
        {
          "name": "stdout",
          "output_type": "stream",
          "text": [
            "{'Bui Duc Duy', 'J.K.Rowling'}\n"
          ]
        }
      ],
      "source": [
        "def get_authors(filenames):\n",
        "    authors = set()\n",
        "    for filename in filenames:\n",
        "        for line in open(filename,'r'):\n",
        "            if line.lower().startswith('author'):\n",
        "                author = line[6:].strip()\n",
        "                authors.add(author)\n",
        "    return authors\n",
        "if __name__ == \"__main__\":\n",
        "    list_file = ['PDB_1.pdb','PDB_2.pdb']\n",
        "    print(get_authors(list_file))"
      ]
    }
  ],
  "metadata": {
    "colab": {
      "include_colab_link": true,
      "name": "Lab04_chapter11.ipynb",
      "provenance": []
    },
    "interpreter": {
      "hash": "33dc6d49505b4536b6a128d9d7c879e1fa44477ad44947bbbe73093067fe6393"
    },
    "kernelspec": {
      "display_name": "Python 3.9.6 64-bit",
      "name": "python3"
    },
    "language_info": {
      "codemirror_mode": {
        "name": "ipython",
        "version": 3
      },
      "file_extension": ".py",
      "mimetype": "text/x-python",
      "name": "python",
      "nbconvert_exporter": "python",
      "pygments_lexer": "ipython3",
      "version": "3.9.6"
    }
  },
  "nbformat": 4,
  "nbformat_minor": 0
}
