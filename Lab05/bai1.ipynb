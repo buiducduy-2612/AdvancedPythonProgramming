{
  "cells": [
    {
      "cell_type": "markdown",
      "metadata": {
        "colab_type": "text",
        "id": "view-in-github"
      },
      "source": [
        "<a href=\"https://colab.research.google.com/github/ducduy2612-20/AdvancedPythonProgramming/blob/main/Lab05/bai1.ipynb\" target=\"_parent\"><img src=\"https://colab.research.google.com/assets/colab-badge.svg\" alt=\"Open In Colab\"/></a>"
      ]
    },
    {
      "cell_type": "code",
      "execution_count": 2,
      "metadata": {
        "id": "Yli42H3VraLl"
      },
      "outputs": [],
      "source": [
        "from Country import Country"
      ]
    },
    {
      "cell_type": "code",
      "execution_count": 3,
      "metadata": {
        "id": "Qru1WsSurfQ3"
      },
      "outputs": [
        {
          "name": "stdout",
          "output_type": "stream",
          "text": [
            "canada.name -> Canada\n",
            "canada.population -> 34482779\n",
            "canada.area -> 9984670\n"
          ]
        }
      ],
      "source": [
        "#cau a\n",
        "canada = Country('Canada', 34482779, 9984670)\n",
        "print('canada.name ->',canada.name)\n",
        "print('canada.population ->',canada.population)\n",
        "print('canada.area ->',canada.area)"
      ]
    },
    {
      "cell_type": "code",
      "execution_count": 4,
      "metadata": {
        "id": "VpR__dCsrjBX"
      },
      "outputs": [
        {
          "name": "stdout",
          "output_type": "stream",
          "text": [
            "canada.is_larger(usa) ->  True\n"
          ]
        }
      ],
      "source": [
        "#cau b\n",
        "canada = Country('Canada', 34482779, 9984670)\n",
        "usa = Country('United States of America', 313914040, 9826675)\n",
        "print('canada.is_larger(usa) -> ',canada.is_larger(usa))"
      ]
    },
    {
      "cell_type": "code",
      "execution_count": 5,
      "metadata": {
        "id": "on9SxbWOrjE5"
      },
      "outputs": [
        {
          "name": "stdout",
          "output_type": "stream",
          "text": [
            "canada.population_density() -> 3.4535722262227995\n"
          ]
        }
      ],
      "source": [
        "#cau c\n",
        "print('canada.population_density() ->', canada.population_density())\n"
      ]
    },
    {
      "cell_type": "code",
      "execution_count": 6,
      "metadata": {
        "id": "I2ytGDgZrpMP"
      },
      "outputs": [
        {
          "name": "stdout",
          "output_type": "stream",
          "text": [
            "usa -> United States of America has a population of 313914040 and its area is 9826675 square kilometers.\n"
          ]
        }
      ],
      "source": [
        "#cau d\n",
        "usa = Country('United States of America', 313914040, 9826675)\n",
        "print('usa ->',usa)"
      ]
    },
    {
      "cell_type": "code",
      "execution_count": 7,
      "metadata": {
        "id": "AUtMEL0jrpPU"
      },
      "outputs": [
        {
          "name": "stdout",
          "output_type": "stream",
          "text": [
            "Canada has a population of 34482779 and its area is 9984670 square kilometers.\n",
            "[Country('Canada', 34482779, 9984670)]\n"
          ]
        }
      ],
      "source": [
        "#cau e\n",
        "canada = Country('Canada', 34482779, 9984670)\n",
        "canada\n",
        "print(canada)\n",
        "[canada]\n",
        "print([canada])"
      ]
    }
  ],
  "metadata": {
    "colab": {
      "authorship_tag": "ABX9TyNu894GD6lIojuG91ae9BqN",
      "include_colab_link": true,
      "name": "Untitled1.ipynb",
      "provenance": []
    },
    "interpreter": {
      "hash": "33dc6d49505b4536b6a128d9d7c879e1fa44477ad44947bbbe73093067fe6393"
    },
    "kernelspec": {
      "display_name": "Python 3.9.6 64-bit",
      "name": "python3"
    },
    "language_info": {
      "codemirror_mode": {
        "name": "ipython",
        "version": 3
      },
      "file_extension": ".py",
      "mimetype": "text/x-python",
      "name": "python",
      "nbconvert_exporter": "python",
      "pygments_lexer": "ipython3",
      "version": "3.9.6"
    }
  },
  "nbformat": 4,
  "nbformat_minor": 0
}
