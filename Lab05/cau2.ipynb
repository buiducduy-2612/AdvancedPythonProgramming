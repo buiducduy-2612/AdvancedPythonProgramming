{
  "cells": [
    {
      "cell_type": "markdown",
      "metadata": {
        "colab_type": "text",
        "id": "view-in-github"
      },
      "source": [
        "<a href=\"https://colab.research.google.com/github/ducduy2612-20/AdvancedPythonProgramming/blob/main/Lab05/cau2.ipynb\" target=\"_parent\"><img src=\"https://colab.research.google.com/assets/colab-badge.svg\" alt=\"Open In Colab\"/></a>"
      ]
    },
    {
      "cell_type": "code",
      "execution_count": 1,
      "metadata": {
        "id": "6x35nA5YsDAL"
      },
      "outputs": [],
      "source": [
        "from Continent import Continent\n",
        "from Country import Country"
      ]
    },
    {
      "cell_type": "markdown",
      "metadata": {},
      "source": [
        "a)"
      ]
    },
    {
      "cell_type": "code",
      "execution_count": 2,
      "metadata": {
        "id": "2AAT7LB6tGc4"
      },
      "outputs": [
        {
          "name": "stdout",
          "output_type": "stream",
          "text": [
            "Canada has a population of 34482779 and its area is 9984670 square kilometers.\n",
            "United States of America has a population of 313914040 and its area is 9826675 square kilometers.\n",
            "Mexico has a population of 112336538 and its area is 1943950 square kilometers.\n"
          ]
        }
      ],
      "source": [
        "canada = Country('Canada', 34482779, 9984670)\n",
        "usa = Country('United States of America', 313914040,9826675)\n",
        "mexico = Country('Mexico', 112336538, 1943950)\n",
        "\n",
        "countries = [canada, usa , mexico]\n",
        "north_america = Continent('North America', countries)\n",
        "\n",
        "for country in north_america.countries:\n",
        "    print(country)"
      ]
    },
    {
      "cell_type": "markdown",
      "metadata": {},
      "source": [
        "b)"
      ]
    },
    {
      "cell_type": "code",
      "execution_count": 3,
      "metadata": {
        "id": "Up4zpAVjtGgO"
      },
      "outputs": [
        {
          "name": "stdout",
          "output_type": "stream",
          "text": [
            "460733357\n"
          ]
        }
      ],
      "source": [
        "print(north_america.total_population())"
      ]
    },
    {
      "cell_type": "markdown",
      "metadata": {},
      "source": [
        "c)"
      ]
    },
    {
      "cell_type": "code",
      "execution_count": 4,
      "metadata": {
        "id": "ltasQab_tGjw"
      },
      "outputs": [
        {
          "name": "stdout",
          "output_type": "stream",
          "text": [
            "North America\n",
            "Canada has a population of 34482779 and is 9984670 square km.\n",
            "United States of America has a population of 313914040 and is 9826675 square km.\n",
            "Mexico has a population of 112336538 and is 1943950 square km.\n",
            "\n"
          ]
        }
      ],
      "source": [
        "print(north_america)"
      ]
    }
  ],
  "metadata": {
    "colab": {
      "authorship_tag": "ABX9TyO8rngkIwxIeEShzwWBXc3x",
      "include_colab_link": true,
      "name": "Untitled2.ipynb",
      "provenance": []
    },
    "interpreter": {
      "hash": "33dc6d49505b4536b6a128d9d7c879e1fa44477ad44947bbbe73093067fe6393"
    },
    "kernelspec": {
      "display_name": "Python 3.9.6 64-bit",
      "name": "python3"
    },
    "language_info": {
      "codemirror_mode": {
        "name": "ipython",
        "version": 3
      },
      "file_extension": ".py",
      "mimetype": "text/x-python",
      "name": "python",
      "nbconvert_exporter": "python",
      "pygments_lexer": "ipython3",
      "version": "3.9.6"
    }
  },
  "nbformat": 4,
  "nbformat_minor": 0
}
