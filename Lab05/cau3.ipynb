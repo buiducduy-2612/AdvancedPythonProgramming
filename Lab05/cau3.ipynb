{
  "cells": [
    {
      "cell_type": "markdown",
      "metadata": {
        "colab_type": "text",
        "id": "view-in-github"
      },
      "source": [
        "<a href=\"https://colab.research.google.com/github/ducduy2612-20/AdvancedPythonProgramming/blob/main/Lab05/cau3.ipynb\" target=\"_parent\"><img src=\"https://colab.research.google.com/assets/colab-badge.svg\" alt=\"Open In Colab\"/></a>"
      ]
    },
    {
      "cell_type": "code",
      "execution_count": 16,
      "metadata": {
        "id": "W4cJZ5ystiwJ"
      },
      "outputs": [],
      "source": [
        "from Student import Student"
      ]
    },
    {
      "cell_type": "markdown",
      "metadata": {},
      "source": [
        "a)"
      ]
    },
    {
      "cell_type": "code",
      "execution_count": 21,
      "metadata": {
        "id": "sIQ4L550tkna"
      },
      "outputs": [
        {
          "name": "stdout",
          "output_type": "stream",
          "text": [
            "Name of the student : Bui Duc Duy \n",
            "Address : HCM City \n",
            "email : ducduy26122000@gmail.com \n",
            "Student number : 261220 \n",
            "Courses_taken : [] \n",
            "Courses_taking : [] \n",
            "\n"
          ]
        }
      ],
      "source": [
        "student1 = Student(\"Bui Duc Duy\",\"HCM City\",\"ducduy26122000@gmail.com\",261220)\n",
        "print(student1)"
      ]
    },
    {
      "cell_type": "markdown",
      "metadata": {},
      "source": [
        "b)"
      ]
    },
    {
      "cell_type": "code",
      "execution_count": 22,
      "metadata": {
        "id": "_hDa1KZKtkqn"
      },
      "outputs": [
        {
          "name": "stdout",
          "output_type": "stream",
          "text": [
            "Name of the student : Bui Duc Duy \n",
            "Address : HCM City \n",
            "email : ducduy26122000@gmail.com \n",
            "Student number : 261220 \n",
            "Courses_taken : ['Python', 'OOP'] \n",
            "Courses_taking : [] \n",
            "\n"
          ]
        }
      ],
      "source": [
        "student1.courses_taken = [\"Python\",\"OOP\"]\n",
        "print(student1)"
      ]
    },
    {
      "cell_type": "markdown",
      "metadata": {},
      "source": [
        "c)"
      ]
    },
    {
      "cell_type": "code",
      "execution_count": 23,
      "metadata": {
        "id": "ZfvCH-DytktR"
      },
      "outputs": [
        {
          "name": "stdout",
          "output_type": "stream",
          "text": [
            "Name of the student : Bui Duc Duy \n",
            "Address : HCM City \n",
            "email : ducduy26122000@gmail.com \n",
            "Student number : 261220 \n",
            "Courses_taken : ['Python', 'OOP'] \n",
            "Courses_taking : ['Advanced python programming'] \n",
            "\n"
          ]
        }
      ],
      "source": [
        "student1.courses_taking = [\"Advanced python programming\"]\n",
        "print(student1)"
      ]
    }
  ],
  "metadata": {
    "colab": {
      "authorship_tag": "ABX9TyMhMV4PuNyMifBezi++bdeJ",
      "include_colab_link": true,
      "name": "Untitled3.ipynb",
      "provenance": []
    },
    "interpreter": {
      "hash": "33dc6d49505b4536b6a128d9d7c879e1fa44477ad44947bbbe73093067fe6393"
    },
    "kernelspec": {
      "display_name": "Python 3.9.6 64-bit",
      "name": "python3"
    },
    "language_info": {
      "codemirror_mode": {
        "name": "ipython",
        "version": 3
      },
      "file_extension": ".py",
      "mimetype": "text/x-python",
      "name": "python",
      "nbconvert_exporter": "python",
      "pygments_lexer": "ipython3",
      "version": "3.9.6"
    }
  },
  "nbformat": 4,
  "nbformat_minor": 0
}
