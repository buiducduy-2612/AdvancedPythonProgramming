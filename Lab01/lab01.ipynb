{
  "nbformat": 4,
  "nbformat_minor": 0,
  "metadata": {
    "colab": {
      "name": "lab01.ipynb",
      "provenance": [],
      "collapsed_sections": [],
      "authorship_tag": "ABX9TyNoURI/Pac+9HLoUatF4tiW",
      "include_colab_link": true
    },
    "kernelspec": {
      "name": "python3",
      "display_name": "Python 3"
    },
    "language_info": {
      "name": "python"
    }
  },
  "cells": [
    {
      "cell_type": "markdown",
      "metadata": {
        "id": "view-in-github",
        "colab_type": "text"
      },
      "source": [
        "<a href=\"https://colab.research.google.com/github/ducduy2612-20/THPythonNC/blob/main/Lab01/lab01.ipynb\" target=\"_parent\"><img src=\"https://colab.research.google.com/assets/colab-badge.svg\" alt=\"Open In Colab\"/></a>"
      ]
    },
    {
      "cell_type": "code",
      "metadata": {
        "id": "CUwxamWQNVcg",
        "colab": {
          "base_uri": "https://localhost:8080/"
        },
        "outputId": "c0ce1db9-4274-428e-ec10-c2c683440226"
      },
      "source": [
        "min(2, 3, 4)"
      ],
      "execution_count": 26,
      "outputs": [
        {
          "output_type": "execute_result",
          "data": {
            "text/plain": [
              "2"
            ]
          },
          "metadata": {},
          "execution_count": 26
        }
      ]
    },
    {
      "cell_type": "code",
      "metadata": {
        "colab": {
          "base_uri": "https://localhost:8080/"
        },
        "id": "AExo_q1pXkbC",
        "outputId": "7b2b0e1d-2e4e-4ebe-9c09-14149f27374c"
      },
      "source": [
        "max(2, -3, 4, 7, -5)"
      ],
      "execution_count": 27,
      "outputs": [
        {
          "output_type": "execute_result",
          "data": {
            "text/plain": [
              "7"
            ]
          },
          "metadata": {},
          "execution_count": 27
        }
      ]
    },
    {
      "cell_type": "code",
      "metadata": {
        "colab": {
          "base_uri": "https://localhost:8080/"
        },
        "id": "pkbleydvXrDB",
        "outputId": "1625a3a2-71c2-4ec9-f86d-3942dbb9a532"
      },
      "source": [
        "max(2, -3, min(4, 7), -5)"
      ],
      "execution_count": 28,
      "outputs": [
        {
          "output_type": "execute_result",
          "data": {
            "text/plain": [
              "4"
            ]
          },
          "metadata": {},
          "execution_count": 28
        }
      ]
    },
    {
      "cell_type": "code",
      "metadata": {
        "colab": {
          "base_uri": "https://localhost:8080/"
        },
        "id": "OyiGLg6Lar3O",
        "outputId": "1130107d-ae01-4b31-a85a-05bd9ae2d37a"
      },
      "source": [
        "min(max(3, 4), abs(-5))"
      ],
      "execution_count": 29,
      "outputs": [
        {
          "output_type": "execute_result",
          "data": {
            "text/plain": [
              "4"
            ]
          },
          "metadata": {},
          "execution_count": 29
        }
      ]
    },
    {
      "cell_type": "code",
      "metadata": {
        "colab": {
          "base_uri": "https://localhost:8080/"
        },
        "id": "gWFI0s3uavG-",
        "outputId": "c4468557-afb4-4fcf-e42d-3ca55e1481f3"
      },
      "source": [
        "abs(min(4, 6, max(2, 8)))"
      ],
      "execution_count": 30,
      "outputs": [
        {
          "output_type": "execute_result",
          "data": {
            "text/plain": [
              "4"
            ]
          },
          "metadata": {},
          "execution_count": 30
        }
      ]
    },
    {
      "cell_type": "code",
      "metadata": {
        "colab": {
          "base_uri": "https://localhost:8080/"
        },
        "id": "y14nwZs3axC5",
        "outputId": "4172bc11-9fbb-46cb-af04-3aa00265c035"
      },
      "source": [
        "round(max(5.572, 3.258), abs(-2))\n"
      ],
      "execution_count": 31,
      "outputs": [
        {
          "output_type": "execute_result",
          "data": {
            "text/plain": [
              "5.57"
            ]
          },
          "metadata": {},
          "execution_count": 31
        }
      ]
    },
    {
      "cell_type": "code",
      "metadata": {
        "id": "MrmUmzq5a0E9"
      },
      "source": [
        "def triple(num):\n",
        " \"\"\" (number) -> number\n",
        " Return num tripled.\n",
        " >>> triple(3)\n",
        " 9\n",
        " \"\"\"\n",
        " return num * 3"
      ],
      "execution_count": 32,
      "outputs": []
    },
    {
      "cell_type": "code",
      "metadata": {
        "id": "oQYwgk87a2uh"
      },
      "source": [
        "def absolute_difference(number1, number2):\n",
        " \"\"\" (number, number) -> number\n",
        " Return the absolute value of the difference between number1\n",
        " and number2.\n",
        " >>> absolute_difference(3, 7)\n",
        " 4\n",
        " \"\"\"\n",
        " return abs(number1 - number2)"
      ],
      "execution_count": 33,
      "outputs": []
    },
    {
      "cell_type": "code",
      "metadata": {
        "id": "jXCgPTPka53N"
      },
      "source": [
        "def km_to_miles(km):\n",
        " \"\"\" (number) -> float\n",
        " Return the distance km in miles.\n",
        " >>> km_to_miles(5)\n",
        " 3.125\n",
        " \"\"\"\n",
        " return km / 1.6"
      ],
      "execution_count": 34,
      "outputs": []
    },
    {
      "cell_type": "code",
      "metadata": {
        "id": "rdflgLYWa8pQ"
      },
      "source": [
        "def average_grade(grade1, grade2, grade3):\n",
        " \"\"\" (number, number, number) -> number\n",
        " Return the average of the grade1, grade2, and grade3, where\n",
        " each grade ranges from 0 to 100, inclusive.\n",
        " >>> average_grade(80, 95, 90)\n",
        " 88.33333333333333\n",
        " \"\"\"\n",
        " return (grade1 + grade2 + grade3) / 3"
      ],
      "execution_count": 35,
      "outputs": []
    },
    {
      "cell_type": "code",
      "metadata": {
        "id": "28FvvCbUbA_T"
      },
      "source": [
        "def top_three_avg(grade1, grade2, grade3, grade4):\n",
        " \"\"\" (number, number, number, number) -> number\n",
        " Return the average of the top three of grades grade1, grade2,\n",
        " grade3, and grade4.\n",
        " >>> top_three_avg(50, 60, 70, 80)\n",
        " 70\n",
        " \"\"\"\n",
        " # Here is one solution that does not use average_grade from Q6.\n",
        " total = grade1 + grade2 + grade3 + grade4\n",
        " top_three = total - min(grade1, grade2, grade3, grade4)\n",
        " return top_three / 3\n",
        " # Here is a different solution that does use the function from Q6.\n",
        " return max(average_grade(grade1, grade2, grade3),\n",
        " average_grade(grade1, grade2, grade4),\n",
        " average_grade(grade1, grade3, grade4),\n",
        " average_grade(grade2, grade3, grade4))\n",
        " return (grade1 + grade2 + grade3) / 3"
      ],
      "execution_count": 36,
      "outputs": []
    },
    {
      "cell_type": "code",
      "metadata": {
        "id": "dIHAalYhbCKO"
      },
      "source": [
        ""
      ],
      "execution_count": 36,
      "outputs": []
    },
    {
      "cell_type": "code",
      "metadata": {
        "id": "EkrkIaWPbGPt"
      },
      "source": [
        ""
      ],
      "execution_count": 36,
      "outputs": []
    }
  ]
}