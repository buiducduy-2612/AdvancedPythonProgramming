{
  "nbformat": 4,
  "nbformat_minor": 0,
  "metadata": {
    "colab": {
      "name": "lab01.ipynb",
      "provenance": [],
      "collapsed_sections": [],
      "authorship_tag": "ABX9TyNMaLpgcSliEwaYFGz5lxJE",
      "include_colab_link": true
    },
    "kernelspec": {
      "name": "python3",
      "display_name": "Python 3"
    },
    "language_info": {
      "name": "python"
    }
  },
  "cells": [
    {
      "cell_type": "markdown",
      "metadata": {
        "id": "view-in-github",
        "colab_type": "text"
      },
      "source": [
        "<a href=\"https://colab.research.google.com/github/ducduy2612-20/THPythonNC/blob/main/Lab01/lab01.ipynb\" target=\"_parent\"><img src=\"https://colab.research.google.com/assets/colab-badge.svg\" alt=\"Open In Colab\"/></a>"
      ]
    },
    {
      "cell_type": "markdown",
      "metadata": {
        "id": "NJkqPSVZzlXF"
      },
      "source": [
        "Chương 1"
      ]
    },
    {
      "cell_type": "code",
      "metadata": {
        "id": "CUwxamWQNVcg",
        "colab": {
          "base_uri": "https://localhost:8080/"
        },
        "outputId": "62404227-79ff-431c-8d40-1f7d6ffa8621"
      },
      "source": [
        "min(2, 3, 4)"
      ],
      "execution_count": 9,
      "outputs": [
        {
          "output_type": "execute_result",
          "data": {
            "text/plain": [
              "2"
            ]
          },
          "metadata": {},
          "execution_count": 9
        }
      ]
    },
    {
      "cell_type": "code",
      "metadata": {
        "colab": {
          "base_uri": "https://localhost:8080/"
        },
        "id": "AExo_q1pXkbC",
        "outputId": "92f180c1-8191-436d-d4b6-0b0659a0912e"
      },
      "source": [
        "max(2, -3, 4, 7, -5)"
      ],
      "execution_count": 10,
      "outputs": [
        {
          "output_type": "execute_result",
          "data": {
            "text/plain": [
              "7"
            ]
          },
          "metadata": {},
          "execution_count": 10
        }
      ]
    },
    {
      "cell_type": "code",
      "metadata": {
        "colab": {
          "base_uri": "https://localhost:8080/"
        },
        "id": "pkbleydvXrDB",
        "outputId": "248c25a5-d2c8-4ff9-c3b1-47598a2eaa84"
      },
      "source": [
        "max(2, -3, min(4, 7), -5)"
      ],
      "execution_count": 11,
      "outputs": [
        {
          "output_type": "execute_result",
          "data": {
            "text/plain": [
              "4"
            ]
          },
          "metadata": {},
          "execution_count": 11
        }
      ]
    },
    {
      "cell_type": "code",
      "metadata": {
        "colab": {
          "base_uri": "https://localhost:8080/"
        },
        "id": "OyiGLg6Lar3O",
        "outputId": "c8dbe1e8-d334-4d1c-e81d-f189f83ef226"
      },
      "source": [
        "min(max(3, 4), abs(-5))"
      ],
      "execution_count": 12,
      "outputs": [
        {
          "output_type": "execute_result",
          "data": {
            "text/plain": [
              "4"
            ]
          },
          "metadata": {},
          "execution_count": 12
        }
      ]
    },
    {
      "cell_type": "code",
      "metadata": {
        "colab": {
          "base_uri": "https://localhost:8080/"
        },
        "id": "gWFI0s3uavG-",
        "outputId": "10fc63fe-16c5-40d0-9240-b0a26f71b38b"
      },
      "source": [
        "abs(min(4, 6, max(2, 8)))"
      ],
      "execution_count": 13,
      "outputs": [
        {
          "output_type": "execute_result",
          "data": {
            "text/plain": [
              "4"
            ]
          },
          "metadata": {},
          "execution_count": 13
        }
      ]
    },
    {
      "cell_type": "code",
      "metadata": {
        "colab": {
          "base_uri": "https://localhost:8080/"
        },
        "id": "y14nwZs3axC5",
        "outputId": "ecf372b5-816b-4c12-89cf-59cbef3a2e2f"
      },
      "source": [
        "round(max(5.572, 3.258), abs(-2))\n"
      ],
      "execution_count": 14,
      "outputs": [
        {
          "output_type": "execute_result",
          "data": {
            "text/plain": [
              "5.57"
            ]
          },
          "metadata": {},
          "execution_count": 14
        }
      ]
    },
    {
      "cell_type": "code",
      "metadata": {
        "colab": {
          "base_uri": "https://localhost:8080/"
        },
        "id": "MrmUmzq5a0E9",
        "outputId": "90f4e5ae-816e-4258-93bc-cc59da435428"
      },
      "source": [
        "def triple(num): \n",
        "  return num * 3\n",
        "triple(3)"
      ],
      "execution_count": 15,
      "outputs": [
        {
          "output_type": "execute_result",
          "data": {
            "text/plain": [
              "9"
            ]
          },
          "metadata": {},
          "execution_count": 15
        }
      ]
    },
    {
      "cell_type": "code",
      "metadata": {
        "colab": {
          "base_uri": "https://localhost:8080/"
        },
        "id": "oQYwgk87a2uh",
        "outputId": "2008d187-86f8-4646-c015-25598497ef7b"
      },
      "source": [
        "def absolute_difference(number1, number2):\n",
        "  return abs(number1 - number2)\n",
        "absolute_difference(3, 7)"
      ],
      "execution_count": 16,
      "outputs": [
        {
          "output_type": "execute_result",
          "data": {
            "text/plain": [
              "4"
            ]
          },
          "metadata": {},
          "execution_count": 16
        }
      ]
    },
    {
      "cell_type": "code",
      "metadata": {
        "colab": {
          "base_uri": "https://localhost:8080/"
        },
        "id": "jXCgPTPka53N",
        "outputId": "0bd87a69-fcc7-4df5-ea97-6b5417d66990"
      },
      "source": [
        "def km_to_miles(km):\n",
        "  return km / 1.6\n",
        "km_to_miles(5)"
      ],
      "execution_count": 17,
      "outputs": [
        {
          "output_type": "execute_result",
          "data": {
            "text/plain": [
              "3.125"
            ]
          },
          "metadata": {},
          "execution_count": 17
        }
      ]
    },
    {
      "cell_type": "code",
      "metadata": {
        "colab": {
          "base_uri": "https://localhost:8080/"
        },
        "id": "rdflgLYWa8pQ",
        "outputId": "f0621649-59a4-483f-f927-1f98f39d5d54"
      },
      "source": [
        "def average_grade(grade1, grade2, grade3):\n",
        "  return (grade1 + grade2 + grade3) / 3\n",
        "average_grade(80, 95, 90)"
      ],
      "execution_count": 18,
      "outputs": [
        {
          "output_type": "execute_result",
          "data": {
            "text/plain": [
              "88.33333333333333"
            ]
          },
          "metadata": {},
          "execution_count": 18
        }
      ]
    },
    {
      "cell_type": "code",
      "metadata": {
        "colab": {
          "base_uri": "https://localhost:8080/"
        },
        "id": "28FvvCbUbA_T",
        "outputId": "2672e11e-30d3-4444-f481-d4bd61932169"
      },
      "source": [
        "def top_three_avg(grade1, grade2, grade3, grade4):\n",
        "  total = grade1 + grade2 + grade3 + grade4\n",
        "  top_three = total - min(grade1, grade2, grade3, grade4)\n",
        "  return top_three / 3\n",
        "  return max(average_grade(grade1, grade2, grade3),\n",
        "  average_grade(grade1, grade2, grade4),\n",
        "  average_grade(grade1, grade3, grade4),\n",
        "  average_grade(grade2, grade3, grade4))\n",
        "\n",
        "  return (grade1 + grade2 + grade3) / 3\n",
        "top_three_avg(50, 60, 70, 80)"
      ],
      "execution_count": 19,
      "outputs": [
        {
          "output_type": "execute_result",
          "data": {
            "text/plain": [
              "70.0"
            ]
          },
          "metadata": {},
          "execution_count": 19
        }
      ]
    },
    {
      "cell_type": "code",
      "metadata": {
        "colab": {
          "base_uri": "https://localhost:8080/"
        },
        "id": "A3xFncC0vK5H",
        "outputId": "77dbb287-7df8-4b92-f83d-5303486328d3"
      },
      "source": [
        "def weeks_elapsed(day1, day2):\n",
        "  return int(abs (day1 - day2)/7)\n",
        "print(weeks_elapsed(3, 20))\n",
        "print(weeks_elapsed(20, 3))\n",
        "print(weeks_elapsed(8, 5))\n",
        "print(weeks_elapsed(40, 61))"
      ],
      "execution_count": 20,
      "outputs": [
        {
          "output_type": "stream",
          "name": "stdout",
          "text": [
            "2\n",
            "2\n",
            "0\n",
            "3\n"
          ]
        }
      ]
    },
    {
      "cell_type": "code",
      "metadata": {
        "colab": {
          "base_uri": "https://localhost:8080/"
        },
        "id": "RbUSWz5yvK70",
        "outputId": "ce0830aa-e157-40a2-b5cb-ce2dd366688c"
      },
      "source": [
        "def square(num):\n",
        "  return num**2\n",
        "square(3)"
      ],
      "execution_count": 21,
      "outputs": [
        {
          "output_type": "execute_result",
          "data": {
            "text/plain": [
              "9"
            ]
          },
          "metadata": {},
          "execution_count": 21
        }
      ]
    },
    {
      "cell_type": "markdown",
      "metadata": {
        "id": "F5gVGaAczoXn"
      },
      "source": [
        "Chương 6"
      ]
    },
    {
      "cell_type": "code",
      "metadata": {
        "colab": {
          "base_uri": "https://localhost:8080/"
        },
        "id": "77_uP7LWvK_M",
        "outputId": "0e1f3b55-858c-4f7b-920d-361386b1bedb"
      },
      "source": [
        "import math\n",
        "print(math.floor(-2.8))\n",
        "print(abs(round(-4.3)))\n",
        "print(math.ceil(math.sin(34.5)))"
      ],
      "execution_count": 22,
      "outputs": [
        {
          "output_type": "stream",
          "name": "stdout",
          "text": [
            "-3\n",
            "4\n",
            "1\n"
          ]
        }
      ]
    },
    {
      "cell_type": "code",
      "metadata": {
        "colab": {
          "base_uri": "https://localhost:8080/"
        },
        "id": "dIHAalYhbCKO",
        "outputId": "42730e06-cbe5-4d96-cb20-fad60a65e247"
      },
      "source": [
        "import calendar\n",
        "print(help(calendar.isleap))\n",
        "print(calendar.isleap(2016))\n",
        "print(dir(calendar))\n",
        "print(calendar.leapdays(2000, 2050))\n",
        "print(calendar.weekday(2016, 7, 29))"
      ],
      "execution_count": 23,
      "outputs": [
        {
          "output_type": "stream",
          "name": "stdout",
          "text": [
            "Help on function isleap in module calendar:\n",
            "\n",
            "isleap(year)\n",
            "    Return True for leap years, False for non-leap years.\n",
            "\n",
            "None\n",
            "True\n",
            "['Calendar', 'EPOCH', 'FRIDAY', 'February', 'HTMLCalendar', 'IllegalMonthError', 'IllegalWeekdayError', 'January', 'LocaleHTMLCalendar', 'LocaleTextCalendar', 'MONDAY', 'SATURDAY', 'SUNDAY', 'THURSDAY', 'TUESDAY', 'TextCalendar', 'WEDNESDAY', '_EPOCH_ORD', '__all__', '__builtins__', '__cached__', '__doc__', '__file__', '__loader__', '__name__', '__package__', '__spec__', '_colwidth', '_locale', '_localized_day', '_localized_month', '_spacing', 'c', 'calendar', 'datetime', 'day_abbr', 'day_name', 'different_locale', 'error', 'firstweekday', 'format', 'formatstring', 'isleap', 'leapdays', 'main', 'mdays', 'month', 'month_abbr', 'month_name', 'monthcalendar', 'monthlen', 'monthrange', 'nextmonth', 'prcal', 'prevmonth', 'prmonth', 'prweek', 'repeat', 'setfirstweekday', 'sys', 'timegm', 'week', 'weekday', 'weekheader']\n",
            "13\n",
            "4\n"
          ]
        }
      ]
    },
    {
      "cell_type": "code",
      "metadata": {
        "colab": {
          "base_uri": "https://localhost:8080/"
        },
        "id": "EkrkIaWPbGPt",
        "outputId": "fdfc3f61-d8f9-4141-97bb-9281c072b757"
      },
      "source": [
        "def average(num1: float, num2: float) -> float:\n",
        "  return (num1+num2)/2\n",
        "print(average(10,20))\n",
        "print(average(2.5, 3.0))"
      ],
      "execution_count": 24,
      "outputs": [
        {
          "output_type": "stream",
          "name": "stdout",
          "text": [
            "15.0\n",
            "2.75\n"
          ]
        }
      ]
    }
  ]
}